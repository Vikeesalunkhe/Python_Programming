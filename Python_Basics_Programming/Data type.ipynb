{
 "cells": [
  {
   "cell_type": "markdown",
   "id": "28a95cae",
   "metadata": {},
   "source": [
    "# Data Type"
   ]
  },
  {
   "cell_type": "raw",
   "id": "9c67cf8a",
   "metadata": {},
   "source": [
    "1.type of data present the inside the variables\n",
    "2.data types :\n",
    "   1 Numerial \n",
    "           a:integers(int)(-int to +int)\n",
    "           b:float(decimal value)\n",
    "           c:complex(combination of real no. and imag. no.)\n",
    "           \n",
    "   2 Text: \n",
    "           a:String(inside the single code('') and double code(\"\"))\n",
    "   3 sequance :\n",
    "           a:list(its enclosed in square brackets[])\n",
    "              -duplicates are allowed\n",
    "              -we can store values and elements\n",
    "              -tuple is mutable \n",
    "           b:tuple(are enclosed in round brackets())\n",
    "              -duplicates are allowed\n",
    "              -tuple is inmutable \n",
    "           c:range (start_value,end_value-1) \n",
    "   4 Mapping :\n",
    "           a:Dictionary(its enclosed in curly brackets{})\n",
    "              -'key':'value'\n",
    "   5 set type:\n",
    "           a:set(enclosed in curly bracket{})\n",
    "              -duplicates are not allowed\n",
    "              -insertion value is not allowed\n",
    "           b:frozenset\n",
    "   6 Boolean :\n",
    "           a: True(1)\n",
    "           b: False(0)"
   ]
  },
  {
   "cell_type": "code",
   "execution_count": 2,
   "id": "6fb69ea2",
   "metadata": {},
   "outputs": [
    {
     "data": {
      "text/plain": [
       "int"
      ]
     },
     "execution_count": 2,
     "metadata": {},
     "output_type": "execute_result"
    }
   ],
   "source": [
    "v =4378\n",
    "type(v)"
   ]
  },
  {
   "cell_type": "code",
   "execution_count": 3,
   "id": "6871ed72",
   "metadata": {},
   "outputs": [],
   "source": [
    "b=-9856"
   ]
  },
  {
   "cell_type": "code",
   "execution_count": 4,
   "id": "7729c780",
   "metadata": {},
   "outputs": [
    {
     "data": {
      "text/plain": [
       "int"
      ]
     },
     "execution_count": 4,
     "metadata": {},
     "output_type": "execute_result"
    }
   ],
   "source": [
    "type(b)"
   ]
  },
  {
   "cell_type": "code",
   "execution_count": 5,
   "id": "9a859f83",
   "metadata": {},
   "outputs": [],
   "source": [
    "m=456.24"
   ]
  },
  {
   "cell_type": "code",
   "execution_count": 6,
   "id": "0dfff428",
   "metadata": {},
   "outputs": [
    {
     "data": {
      "text/plain": [
       "float"
      ]
     },
     "execution_count": 6,
     "metadata": {},
     "output_type": "execute_result"
    }
   ],
   "source": [
    "type(m)"
   ]
  },
  {
   "cell_type": "code",
   "execution_count": 7,
   "id": "eb53c784",
   "metadata": {},
   "outputs": [],
   "source": [
    "v=(-36.34)"
   ]
  },
  {
   "cell_type": "code",
   "execution_count": 8,
   "id": "627b5907",
   "metadata": {},
   "outputs": [
    {
     "data": {
      "text/plain": [
       "float"
      ]
     },
     "execution_count": 8,
     "metadata": {},
     "output_type": "execute_result"
    }
   ],
   "source": [
    "type(v)"
   ]
  },
  {
   "cell_type": "code",
   "execution_count": 9,
   "id": "65883a96",
   "metadata": {},
   "outputs": [],
   "source": [
    "c=4+5"
   ]
  },
  {
   "cell_type": "code",
   "execution_count": 10,
   "id": "ab90285e",
   "metadata": {},
   "outputs": [
    {
     "data": {
      "text/plain": [
       "int"
      ]
     },
     "execution_count": 10,
     "metadata": {},
     "output_type": "execute_result"
    }
   ],
   "source": [
    "type(c)"
   ]
  },
  {
   "cell_type": "code",
   "execution_count": 11,
   "id": "e56e7e60",
   "metadata": {},
   "outputs": [
    {
     "data": {
      "text/plain": [
       "complex"
      ]
     },
     "execution_count": 11,
     "metadata": {},
     "output_type": "execute_result"
    }
   ],
   "source": [
    "x=5j+8\n",
    "type(x)"
   ]
  },
  {
   "cell_type": "code",
   "execution_count": 12,
   "id": "12f7ae8a",
   "metadata": {},
   "outputs": [
    {
     "data": {
      "text/plain": [
       "complex"
      ]
     },
     "execution_count": 12,
     "metadata": {},
     "output_type": "execute_result"
    }
   ],
   "source": [
    "c=-5-6j\n",
    "type(c)"
   ]
  },
  {
   "cell_type": "code",
   "execution_count": 13,
   "id": "c5a512e0",
   "metadata": {},
   "outputs": [],
   "source": [
    "name='ram'"
   ]
  },
  {
   "cell_type": "code",
   "execution_count": 14,
   "id": "a592a53a",
   "metadata": {},
   "outputs": [
    {
     "data": {
      "text/plain": [
       "str"
      ]
     },
     "execution_count": 14,
     "metadata": {},
     "output_type": "execute_result"
    }
   ],
   "source": [
    "type(name)"
   ]
  },
  {
   "cell_type": "code",
   "execution_count": 15,
   "id": "1f968d24",
   "metadata": {},
   "outputs": [],
   "source": [
    "b='34875'\n"
   ]
  },
  {
   "cell_type": "code",
   "execution_count": 16,
   "id": "8c878b77",
   "metadata": {},
   "outputs": [
    {
     "data": {
      "text/plain": [
       "str"
      ]
     },
     "execution_count": 16,
     "metadata": {},
     "output_type": "execute_result"
    }
   ],
   "source": [
    "type(b)"
   ]
  },
  {
   "cell_type": "code",
   "execution_count": 17,
   "id": "7ebba2fd",
   "metadata": {},
   "outputs": [],
   "source": [
    "g='8634.347jer9834fbh983yyfbj4ty'"
   ]
  },
  {
   "cell_type": "code",
   "execution_count": 18,
   "id": "66482806",
   "metadata": {},
   "outputs": [
    {
     "data": {
      "text/plain": [
       "str"
      ]
     },
     "execution_count": 18,
     "metadata": {},
     "output_type": "execute_result"
    }
   ],
   "source": [
    "type(g)"
   ]
  },
  {
   "cell_type": "code",
   "execution_count": 19,
   "id": "d649808e",
   "metadata": {},
   "outputs": [],
   "source": [
    "lst=[1,2,3,4,5,6,7]"
   ]
  },
  {
   "cell_type": "code",
   "execution_count": 20,
   "id": "6d775d1c",
   "metadata": {},
   "outputs": [
    {
     "data": {
      "text/plain": [
       "list"
      ]
     },
     "execution_count": 20,
     "metadata": {},
     "output_type": "execute_result"
    }
   ],
   "source": [
    "type(lst)"
   ]
  },
  {
   "cell_type": "code",
   "execution_count": 21,
   "id": "0c543b3f",
   "metadata": {},
   "outputs": [],
   "source": [
    "lst1=[1,2,3,4,5,54.4,\"ddhso\",'53']"
   ]
  },
  {
   "cell_type": "code",
   "execution_count": 22,
   "id": "4f5ee77c",
   "metadata": {},
   "outputs": [
    {
     "name": "stdout",
     "output_type": "stream",
     "text": [
      "[1, 2, 3, 4, 5, 54.4, 'ddhso', '53']\n"
     ]
    }
   ],
   "source": [
    "print(lst1)"
   ]
  },
  {
   "cell_type": "code",
   "execution_count": 23,
   "id": "2b090b75",
   "metadata": {},
   "outputs": [
    {
     "data": {
      "text/plain": [
       "list"
      ]
     },
     "execution_count": 23,
     "metadata": {},
     "output_type": "execute_result"
    }
   ],
   "source": [
    "type(lst1)"
   ]
  },
  {
   "cell_type": "code",
   "execution_count": 24,
   "id": "9a0d9056",
   "metadata": {},
   "outputs": [],
   "source": [
    "lst2=[4,5,6,7,['grw']]"
   ]
  },
  {
   "cell_type": "code",
   "execution_count": 25,
   "id": "e37b6acd",
   "metadata": {},
   "outputs": [
    {
     "data": {
      "text/plain": [
       "list"
      ]
     },
     "execution_count": 25,
     "metadata": {},
     "output_type": "execute_result"
    }
   ],
   "source": [
    "type(lst2)"
   ]
  },
  {
   "cell_type": "code",
   "execution_count": 26,
   "id": "d3147a5d",
   "metadata": {},
   "outputs": [],
   "source": [
    "t1=(1,2,3,4,5,54.4,\"ddhso\",'53')"
   ]
  },
  {
   "cell_type": "code",
   "execution_count": 27,
   "id": "caa85840",
   "metadata": {},
   "outputs": [
    {
     "data": {
      "text/plain": [
       "tuple"
      ]
     },
     "execution_count": 27,
     "metadata": {},
     "output_type": "execute_result"
    }
   ],
   "source": [
    "type(t1)"
   ]
  },
  {
   "cell_type": "code",
   "execution_count": 28,
   "id": "70de61ca",
   "metadata": {},
   "outputs": [],
   "source": [
    "r1=range(10)"
   ]
  },
  {
   "cell_type": "code",
   "execution_count": 29,
   "id": "646e7cca",
   "metadata": {},
   "outputs": [
    {
     "data": {
      "text/plain": [
       "range"
      ]
     },
     "execution_count": 29,
     "metadata": {},
     "output_type": "execute_result"
    }
   ],
   "source": [
    "type(r1)"
   ]
  },
  {
   "cell_type": "code",
   "execution_count": 30,
   "id": "58477350",
   "metadata": {},
   "outputs": [],
   "source": [
    "r1=range(1,50)"
   ]
  },
  {
   "cell_type": "code",
   "execution_count": 31,
   "id": "fefb6152",
   "metadata": {},
   "outputs": [
    {
     "data": {
      "text/plain": [
       "range"
      ]
     },
     "execution_count": 31,
     "metadata": {},
     "output_type": "execute_result"
    }
   ],
   "source": [
    "type(r1)"
   ]
  },
  {
   "cell_type": "code",
   "execution_count": 32,
   "id": "9b4c217a",
   "metadata": {},
   "outputs": [],
   "source": [
    "dic={'name':'ramesh','age':'45'}"
   ]
  },
  {
   "cell_type": "code",
   "execution_count": 33,
   "id": "4d9bacef",
   "metadata": {},
   "outputs": [
    {
     "data": {
      "text/plain": [
       "{'name': 'ramesh', 'age': '45'}"
      ]
     },
     "execution_count": 33,
     "metadata": {},
     "output_type": "execute_result"
    }
   ],
   "source": [
    "dic"
   ]
  },
  {
   "cell_type": "code",
   "execution_count": 34,
   "id": "102854c2",
   "metadata": {},
   "outputs": [
    {
     "data": {
      "text/plain": [
       "dict"
      ]
     },
     "execution_count": 34,
     "metadata": {},
     "output_type": "execute_result"
    }
   ],
   "source": [
    "type(dic)"
   ]
  },
  {
   "cell_type": "code",
   "execution_count": 35,
   "id": "8221f8ef",
   "metadata": {},
   "outputs": [],
   "source": [
    "dic2={'date':'45','part':'45.45','age':'46'}"
   ]
  },
  {
   "cell_type": "code",
   "execution_count": 36,
   "id": "512b9170",
   "metadata": {},
   "outputs": [
    {
     "data": {
      "text/plain": [
       "{'date': '45', 'part': '45.45', 'age': '46'}"
      ]
     },
     "execution_count": 36,
     "metadata": {},
     "output_type": "execute_result"
    }
   ],
   "source": [
    "dic2"
   ]
  },
  {
   "cell_type": "code",
   "execution_count": 37,
   "id": "e6e97b59",
   "metadata": {},
   "outputs": [
    {
     "data": {
      "text/plain": [
       "dict"
      ]
     },
     "execution_count": 37,
     "metadata": {},
     "output_type": "execute_result"
    }
   ],
   "source": [
    "type(dic2)"
   ]
  },
  {
   "cell_type": "code",
   "execution_count": 38,
   "id": "08469059",
   "metadata": {},
   "outputs": [],
   "source": [
    "set1={2,3,4,5,(3,4,5,6),'usfit'}"
   ]
  },
  {
   "cell_type": "code",
   "execution_count": 39,
   "id": "ec0b1e7d",
   "metadata": {},
   "outputs": [
    {
     "data": {
      "text/plain": [
       "set"
      ]
     },
     "execution_count": 39,
     "metadata": {},
     "output_type": "execute_result"
    }
   ],
   "source": [
    "type(set1)"
   ]
  },
  {
   "cell_type": "code",
   "execution_count": 40,
   "id": "c4aa0054",
   "metadata": {},
   "outputs": [
    {
     "data": {
      "text/plain": [
       "{(3, 4, 5, 6), 2, 3, 4, 5, 'usfit'}"
      ]
     },
     "execution_count": 40,
     "metadata": {},
     "output_type": "execute_result"
    }
   ],
   "source": [
    "set1"
   ]
  },
  {
   "cell_type": "code",
   "execution_count": 41,
   "id": "3b14bbac",
   "metadata": {},
   "outputs": [],
   "source": [
    "\n",
    "a =True"
   ]
  },
  {
   "cell_type": "code",
   "execution_count": 42,
   "id": "121bfb45",
   "metadata": {},
   "outputs": [
    {
     "data": {
      "text/plain": [
       "bool"
      ]
     },
     "execution_count": 42,
     "metadata": {},
     "output_type": "execute_result"
    }
   ],
   "source": [
    "type(a)"
   ]
  },
  {
   "cell_type": "code",
   "execution_count": 43,
   "id": "774e908a",
   "metadata": {},
   "outputs": [],
   "source": [
    "b =False"
   ]
  },
  {
   "cell_type": "code",
   "execution_count": 44,
   "id": "ea7f4e93",
   "metadata": {},
   "outputs": [
    {
     "data": {
      "text/plain": [
       "bool"
      ]
     },
     "execution_count": 44,
     "metadata": {},
     "output_type": "execute_result"
    }
   ],
   "source": [
    "type(b)"
   ]
  },
  {
   "cell_type": "markdown",
   "id": "4d567511",
   "metadata": {},
   "source": [
    "# type casting"
   ]
  },
  {
   "cell_type": "markdown",
   "id": "b6239fe5",
   "metadata": {},
   "source": [
    "-to convert one  data type to another datatype\n",
    "-we use data type construction\n",
    "-int(),  float(),complex(),str(),tuple(),dict(),list(),set(),frozenset(),bool()"
   ]
  },
  {
   "cell_type": "code",
   "execution_count": 45,
   "id": "5e5dbcca",
   "metadata": {},
   "outputs": [
    {
     "data": {
      "text/plain": [
       "4387"
      ]
     },
     "execution_count": 45,
     "metadata": {},
     "output_type": "execute_result"
    }
   ],
   "source": [
    "int(4387.486)"
   ]
  },
  {
   "cell_type": "code",
   "execution_count": 46,
   "id": "d007f93a",
   "metadata": {},
   "outputs": [
    {
     "data": {
      "text/plain": [
       "35.0"
      ]
     },
     "execution_count": 46,
     "metadata": {},
     "output_type": "execute_result"
    }
   ],
   "source": [
    "float(35)"
   ]
  },
  {
   "cell_type": "code",
   "execution_count": 47,
   "id": "d1d7d3ab",
   "metadata": {},
   "outputs": [
    {
     "data": {
      "text/plain": [
       "(2354+0j)"
      ]
     },
     "execution_count": 47,
     "metadata": {},
     "output_type": "execute_result"
    }
   ],
   "source": [
    "complex(2347+7)"
   ]
  },
  {
   "cell_type": "code",
   "execution_count": 48,
   "id": "ad6aa51c",
   "metadata": {},
   "outputs": [
    {
     "ename": "TypeError",
     "evalue": "can't convert complex to int",
     "output_type": "error",
     "traceback": [
      "\u001b[1;31m---------------------------------------------------------------------------\u001b[0m",
      "\u001b[1;31mTypeError\u001b[0m                                 Traceback (most recent call last)",
      "\u001b[1;32mC:\\Users\\VIKEED~1\\AppData\\Local\\Temp/ipykernel_1624/4033946079.py\u001b[0m in \u001b[0;36m<module>\u001b[1;34m\u001b[0m\n\u001b[1;32m----> 1\u001b[1;33m \u001b[0mint\u001b[0m\u001b[1;33m(\u001b[0m\u001b[1;36m346\u001b[0m\u001b[1;33m+\u001b[0m\u001b[1;36m6j\u001b[0m\u001b[1;33m)\u001b[0m\u001b[1;33m\u001b[0m\u001b[1;33m\u001b[0m\u001b[0m\n\u001b[0m",
      "\u001b[1;31mTypeError\u001b[0m: can't convert complex to int"
     ]
    }
   ],
   "source": [
    "int(346+6j)"
   ]
  },
  {
   "cell_type": "code",
   "execution_count": null,
   "id": "e538a3bd",
   "metadata": {},
   "outputs": [],
   "source": [
    "complex(37)"
   ]
  },
  {
   "cell_type": "code",
   "execution_count": null,
   "id": "45e23781",
   "metadata": {},
   "outputs": [],
   "source": [
    "int('123')"
   ]
  },
  {
   "cell_type": "code",
   "execution_count": null,
   "id": "7b27dcfd",
   "metadata": {},
   "outputs": [],
   "source": [
    "int('ksdf')"
   ]
  },
  {
   "cell_type": "code",
   "execution_count": null,
   "id": "b11f2d8e",
   "metadata": {},
   "outputs": [],
   "source": [
    "int('45.4')"
   ]
  },
  {
   "cell_type": "code",
   "execution_count": null,
   "id": "91847cd1",
   "metadata": {},
   "outputs": [],
   "source": [
    "int(True)"
   ]
  },
  {
   "cell_type": "code",
   "execution_count": null,
   "id": "f2459325",
   "metadata": {},
   "outputs": [],
   "source": [
    "int(False)"
   ]
  },
  {
   "cell_type": "code",
   "execution_count": null,
   "id": "80ea8ed2",
   "metadata": {},
   "outputs": [],
   "source": [
    "float(143)"
   ]
  },
  {
   "cell_type": "code",
   "execution_count": null,
   "id": "40c1bd0f",
   "metadata": {},
   "outputs": [],
   "source": [
    "float(54+7j)"
   ]
  },
  {
   "cell_type": "code",
   "execution_count": null,
   "id": "2c3ff36a",
   "metadata": {},
   "outputs": [],
   "source": [
    "float('hgk')"
   ]
  },
  {
   "cell_type": "code",
   "execution_count": null,
   "id": "f1c37345",
   "metadata": {},
   "outputs": [],
   "source": [
    "str('75.54')"
   ]
  },
  {
   "cell_type": "code",
   "execution_count": null,
   "id": "da58b7fb",
   "metadata": {},
   "outputs": [],
   "source": [
    "int('eg')"
   ]
  },
  {
   "cell_type": "code",
   "execution_count": null,
   "id": "d6ca8629",
   "metadata": {},
   "outputs": [],
   "source": [
    "float(True)"
   ]
  },
  {
   "cell_type": "code",
   "execution_count": null,
   "id": "0b46ecf0",
   "metadata": {},
   "outputs": [],
   "source": [
    "float(False)"
   ]
  },
  {
   "cell_type": "code",
   "execution_count": null,
   "id": "51dc9d8e",
   "metadata": {},
   "outputs": [],
   "source": [
    "complex(True,False)"
   ]
  },
  {
   "cell_type": "code",
   "execution_count": null,
   "id": "1328c489",
   "metadata": {},
   "outputs": [],
   "source": [
    "complex(False,True)"
   ]
  },
  {
   "cell_type": "code",
   "execution_count": null,
   "id": "18744f5f",
   "metadata": {},
   "outputs": [],
   "source": [
    "complex('efuhy',4)"
   ]
  },
  {
   "cell_type": "markdown",
   "id": "0379e6f2",
   "metadata": {},
   "source": [
    "# str()"
   ]
  },
  {
   "cell_type": "code",
   "execution_count": null,
   "id": "e06d4efe",
   "metadata": {},
   "outputs": [],
   "source": [
    "str(37)"
   ]
  },
  {
   "cell_type": "code",
   "execution_count": null,
   "id": "ad3e5e1b",
   "metadata": {},
   "outputs": [],
   "source": [
    "str(5.4)"
   ]
  },
  {
   "cell_type": "raw",
   "id": "975b143c",
   "metadata": {},
   "source": [
    "str(45-7j)"
   ]
  },
  {
   "cell_type": "code",
   "execution_count": null,
   "id": "568b9c63",
   "metadata": {},
   "outputs": [],
   "source": [
    "str(True)"
   ]
  },
  {
   "cell_type": "raw",
   "id": "034f14b7",
   "metadata": {},
   "source": [
    "str(\"464.5\")"
   ]
  },
  {
   "cell_type": "markdown",
   "id": "95050394",
   "metadata": {},
   "source": [
    "# bool()"
   ]
  },
  {
   "cell_type": "code",
   "execution_count": 1,
   "id": "e391014e",
   "metadata": {},
   "outputs": [
    {
     "data": {
      "text/plain": [
       "True"
      ]
     },
     "execution_count": 1,
     "metadata": {},
     "output_type": "execute_result"
    }
   ],
   "source": [
    "bool(56)"
   ]
  },
  {
   "cell_type": "code",
   "execution_count": 2,
   "id": "24930cfe",
   "metadata": {},
   "outputs": [
    {
     "data": {
      "text/plain": [
       "True"
      ]
     },
     "execution_count": 2,
     "metadata": {},
     "output_type": "execute_result"
    }
   ],
   "source": [
    "bool('dfu')"
   ]
  },
  {
   "cell_type": "code",
   "execution_count": 3,
   "id": "bcb2d0f6",
   "metadata": {},
   "outputs": [
    {
     "data": {
      "text/plain": [
       "True"
      ]
     },
     "execution_count": 3,
     "metadata": {},
     "output_type": "execute_result"
    }
   ],
   "source": [
    "bool('3')"
   ]
  },
  {
   "cell_type": "code",
   "execution_count": 4,
   "id": "6e6969ff",
   "metadata": {},
   "outputs": [
    {
     "data": {
      "text/plain": [
       "True"
      ]
     },
     "execution_count": 4,
     "metadata": {},
     "output_type": "execute_result"
    }
   ],
   "source": [
    "bool(-4)"
   ]
  },
  {
   "cell_type": "code",
   "execution_count": 5,
   "id": "5c079a7e",
   "metadata": {},
   "outputs": [
    {
     "data": {
      "text/plain": [
       "False"
      ]
     },
     "execution_count": 5,
     "metadata": {},
     "output_type": "execute_result"
    }
   ],
   "source": [
    "bool()"
   ]
  },
  {
   "cell_type": "code",
   "execution_count": 6,
   "id": "155b8219",
   "metadata": {},
   "outputs": [
    {
     "data": {
      "text/plain": [
       "True"
      ]
     },
     "execution_count": 6,
     "metadata": {},
     "output_type": "execute_result"
    }
   ],
   "source": [
    "bool(4-6j)"
   ]
  },
  {
   "cell_type": "code",
   "execution_count": null,
   "id": "39b55d6a",
   "metadata": {},
   "outputs": [],
   "source": [
    "bool()"
   ]
  },
  {
   "cell_type": "code",
   "execution_count": null,
   "id": "13d2fab2",
   "metadata": {},
   "outputs": [],
   "source": [
    "bool(0j)"
   ]
  },
  {
   "cell_type": "code",
   "execution_count": null,
   "id": "163b8241",
   "metadata": {},
   "outputs": [],
   "source": [
    "bool(\"\")"
   ]
  },
  {
   "cell_type": "markdown",
   "id": "73a100a6",
   "metadata": {},
   "source": [
    "# Operator"
   ]
  },
  {
   "cell_type": "raw",
   "id": "6c5558e8",
   "metadata": {},
   "source": [
    "  # Operators\n",
    "  \n",
    "  types of operator:\n",
    "                1.Arithmatic operators(+,-,*,&,/,//,\\,\\\\,**,%)\n",
    "                2.Relational operators(<,>,<=,=>,==,!=)\n",
    "                3.Logical oprators(and, or, not)\n",
    "                4.Assingment operators(=,+=,-=,/=,//=)\n",
    "                5.Identiy operators(is,is not)\n",
    "                6.Membership operator(in,not in)\n",
    "                7.bitwise oprators(&,|,^,<<,>>,-)\n",
    "                "
   ]
  },
  {
   "cell_type": "code",
   "execution_count": null,
   "id": "886b8892",
   "metadata": {},
   "outputs": [],
   "source": [
    "# 1.Arithmatic operators(+,-,*,&,/,//,\\,\\\\,**,%)\n"
   ]
  },
  {
   "cell_type": "code",
   "execution_count": 3,
   "id": "a77b9133",
   "metadata": {},
   "outputs": [],
   "source": [
    "num1 = 20\n",
    "num2 = 4"
   ]
  },
  {
   "cell_type": "code",
   "execution_count": 4,
   "id": "5f427cbc",
   "metadata": {},
   "outputs": [
    {
     "data": {
      "text/plain": [
       "24"
      ]
     },
     "execution_count": 4,
     "metadata": {},
     "output_type": "execute_result"
    }
   ],
   "source": [
    "num1 + num2"
   ]
  },
  {
   "cell_type": "code",
   "execution_count": 5,
   "id": "1ff74283",
   "metadata": {},
   "outputs": [
    {
     "data": {
      "text/plain": [
       "16"
      ]
     },
     "execution_count": 5,
     "metadata": {},
     "output_type": "execute_result"
    }
   ],
   "source": [
    "num1 - num2"
   ]
  },
  {
   "cell_type": "code",
   "execution_count": 6,
   "id": "166f51ee",
   "metadata": {},
   "outputs": [
    {
     "data": {
      "text/plain": [
       "80"
      ]
     },
     "execution_count": 6,
     "metadata": {},
     "output_type": "execute_result"
    }
   ],
   "source": [
    "num1*num2"
   ]
  },
  {
   "cell_type": "code",
   "execution_count": 7,
   "id": "37785deb",
   "metadata": {},
   "outputs": [
    {
     "data": {
      "text/plain": [
       "4"
      ]
     },
     "execution_count": 7,
     "metadata": {},
     "output_type": "execute_result"
    }
   ],
   "source": [
    "num1&num2"
   ]
  },
  {
   "cell_type": "code",
   "execution_count": 8,
   "id": "7e82346d",
   "metadata": {},
   "outputs": [
    {
     "data": {
      "text/plain": [
       "0"
      ]
     },
     "execution_count": 8,
     "metadata": {},
     "output_type": "execute_result"
    }
   ],
   "source": [
    "num1%num2 #find the reminder"
   ]
  },
  {
   "cell_type": "code",
   "execution_count": 9,
   "id": "c95eb089",
   "metadata": {},
   "outputs": [
    {
     "data": {
      "text/plain": [
       "5.0"
      ]
     },
     "execution_count": 9,
     "metadata": {},
     "output_type": "execute_result"
    }
   ],
   "source": [
    "num1/num2 #return the result in float type"
   ]
  },
  {
   "cell_type": "code",
   "execution_count": 10,
   "id": "81e132f8",
   "metadata": {},
   "outputs": [
    {
     "data": {
      "text/plain": [
       "5"
      ]
     },
     "execution_count": 10,
     "metadata": {},
     "output_type": "execute_result"
    }
   ],
   "source": [
    "num1//num2   #return the result in int type"
   ]
  },
  {
   "cell_type": "code",
   "execution_count": 11,
   "id": "35faf3aa",
   "metadata": {},
   "outputs": [
    {
     "data": {
      "text/plain": [
       "160000"
      ]
     },
     "execution_count": 11,
     "metadata": {},
     "output_type": "execute_result"
    }
   ],
   "source": [
    "num1**num2  #find the raise to eg. 20^4  (20*20*20*20)   "
   ]
  },
  {
   "cell_type": "code",
   "execution_count": 12,
   "id": "2b648589",
   "metadata": {},
   "outputs": [],
   "source": [
    "# 2.Relational operators(<,>,<=,=>,==,!=)......output in boolean\n"
   ]
  },
  {
   "cell_type": "code",
   "execution_count": 13,
   "id": "fbbe19de",
   "metadata": {},
   "outputs": [
    {
     "data": {
      "text/plain": [
       "False"
      ]
     },
     "execution_count": 13,
     "metadata": {},
     "output_type": "execute_result"
    }
   ],
   "source": [
    "num1<num2"
   ]
  },
  {
   "cell_type": "code",
   "execution_count": 14,
   "id": "a3853c7e",
   "metadata": {},
   "outputs": [
    {
     "data": {
      "text/plain": [
       "True"
      ]
     },
     "execution_count": 14,
     "metadata": {},
     "output_type": "execute_result"
    }
   ],
   "source": [
    "num1>num2"
   ]
  },
  {
   "cell_type": "code",
   "execution_count": 15,
   "id": "381c231f",
   "metadata": {},
   "outputs": [
    {
     "data": {
      "text/plain": [
       "False"
      ]
     },
     "execution_count": 15,
     "metadata": {},
     "output_type": "execute_result"
    }
   ],
   "source": [
    "num1<=num2"
   ]
  },
  {
   "cell_type": "code",
   "execution_count": 16,
   "id": "b5f8c3a4",
   "metadata": {},
   "outputs": [
    {
     "data": {
      "text/plain": [
       "True"
      ]
     },
     "execution_count": 16,
     "metadata": {},
     "output_type": "execute_result"
    }
   ],
   "source": [
    "num1>=num2"
   ]
  },
  {
   "cell_type": "code",
   "execution_count": 17,
   "id": "1c976004",
   "metadata": {},
   "outputs": [
    {
     "data": {
      "text/plain": [
       "False"
      ]
     },
     "execution_count": 17,
     "metadata": {},
     "output_type": "execute_result"
    }
   ],
   "source": [
    "num1==num2"
   ]
  },
  {
   "cell_type": "code",
   "execution_count": 18,
   "id": "7a0cae09",
   "metadata": {},
   "outputs": [
    {
     "data": {
      "text/plain": [
       "True"
      ]
     },
     "execution_count": 18,
     "metadata": {},
     "output_type": "execute_result"
    }
   ],
   "source": [
    "num1!=num2"
   ]
  },
  {
   "cell_type": "raw",
   "id": "ffbdf69a",
   "metadata": {},
   "source": [
    "#3.Logical oprators(and, or, not)\n",
    "\n",
    "x  y  x and y     x or y\n",
    "1  1    1            1\n",
    "1  0    0            1\n",
    "0  1    0            1\n",
    "0  0    0            0"
   ]
  },
  {
   "cell_type": "code",
   "execution_count": 19,
   "id": "0492c9ac",
   "metadata": {},
   "outputs": [
    {
     "data": {
      "text/plain": [
       "True"
      ]
     },
     "execution_count": 19,
     "metadata": {},
     "output_type": "execute_result"
    }
   ],
   "source": [
    "num1 > num2 and num1!=num2"
   ]
  },
  {
   "cell_type": "code",
   "execution_count": 20,
   "id": "5cc167b9",
   "metadata": {},
   "outputs": [
    {
     "data": {
      "text/plain": [
       "False"
      ]
     },
     "execution_count": 20,
     "metadata": {},
     "output_type": "execute_result"
    }
   ],
   "source": [
    "num1 < num2 and num1!=num2"
   ]
  },
  {
   "cell_type": "code",
   "execution_count": 21,
   "id": "e1560fd1",
   "metadata": {},
   "outputs": [
    {
     "data": {
      "text/plain": [
       "True"
      ]
     },
     "execution_count": 21,
     "metadata": {},
     "output_type": "execute_result"
    }
   ],
   "source": [
    "num1 > num2 or num1!=num2"
   ]
  },
  {
   "cell_type": "code",
   "execution_count": 22,
   "id": "22fb7fd5",
   "metadata": {},
   "outputs": [
    {
     "data": {
      "text/plain": [
       "True"
      ]
     },
     "execution_count": 22,
     "metadata": {},
     "output_type": "execute_result"
    }
   ],
   "source": [
    "num1 > num2 and num1!=num2"
   ]
  },
  {
   "cell_type": "code",
   "execution_count": 23,
   "id": "19cee75f",
   "metadata": {},
   "outputs": [
    {
     "data": {
      "text/plain": [
       "True"
      ]
     },
     "execution_count": 23,
     "metadata": {},
     "output_type": "execute_result"
    }
   ],
   "source": [
    "(num1 > num2 )"
   ]
  },
  {
   "cell_type": "code",
   "execution_count": 24,
   "id": "0bf6b10b",
   "metadata": {},
   "outputs": [
    {
     "data": {
      "text/plain": [
       "False"
      ]
     },
     "execution_count": 24,
     "metadata": {},
     "output_type": "execute_result"
    }
   ],
   "source": [
    "not(num1 > num2 )"
   ]
  },
  {
   "cell_type": "code",
   "execution_count": 25,
   "id": "94e5ce58",
   "metadata": {},
   "outputs": [
    {
     "data": {
      "text/plain": [
       "5"
      ]
     },
     "execution_count": 25,
     "metadata": {},
     "output_type": "execute_result"
    }
   ],
   "source": [
    "45 and 5"
   ]
  },
  {
   "cell_type": "code",
   "execution_count": 26,
   "id": "fba80d55",
   "metadata": {},
   "outputs": [
    {
     "data": {
      "text/plain": [
       "0"
      ]
     },
     "execution_count": 26,
     "metadata": {},
     "output_type": "execute_result"
    }
   ],
   "source": [
    "0 and 53"
   ]
  },
  {
   "cell_type": "code",
   "execution_count": 27,
   "id": "4a202810",
   "metadata": {},
   "outputs": [
    {
     "data": {
      "text/plain": [
       "54"
      ]
     },
     "execution_count": 27,
     "metadata": {},
     "output_type": "execute_result"
    }
   ],
   "source": [
    "54 or 34"
   ]
  },
  {
   "cell_type": "code",
   "execution_count": 28,
   "id": "dbc6e189",
   "metadata": {},
   "outputs": [
    {
     "data": {
      "text/plain": [
       "4"
      ]
     },
     "execution_count": 28,
     "metadata": {},
     "output_type": "execute_result"
    }
   ],
   "source": [
    "0 or 4"
   ]
  },
  {
   "cell_type": "code",
   "execution_count": 29,
   "id": "9d76009c",
   "metadata": {},
   "outputs": [
    {
     "data": {
      "text/plain": [
       "0"
      ]
     },
     "execution_count": 29,
     "metadata": {},
     "output_type": "execute_result"
    }
   ],
   "source": [
    "0 or 0"
   ]
  },
  {
   "cell_type": "code",
   "execution_count": 30,
   "id": "5f2d405e",
   "metadata": {},
   "outputs": [],
   "source": [
    "# 4.Assingment operators(=,+=,-=,/=,//=)\n"
   ]
  },
  {
   "cell_type": "code",
   "execution_count": 3,
   "id": "3f4747cd",
   "metadata": {},
   "outputs": [],
   "source": [
    "num1 = 10"
   ]
  },
  {
   "cell_type": "code",
   "execution_count": 4,
   "id": "e5d9e750",
   "metadata": {},
   "outputs": [
    {
     "data": {
      "text/plain": [
       "10"
      ]
     },
     "execution_count": 4,
     "metadata": {},
     "output_type": "execute_result"
    }
   ],
   "source": [
    "num1"
   ]
  },
  {
   "cell_type": "code",
   "execution_count": 5,
   "id": "478ec583",
   "metadata": {},
   "outputs": [],
   "source": [
    "num1+=10"
   ]
  },
  {
   "cell_type": "code",
   "execution_count": 6,
   "id": "fadcf7c4",
   "metadata": {},
   "outputs": [
    {
     "data": {
      "text/plain": [
       "20"
      ]
     },
     "execution_count": 6,
     "metadata": {},
     "output_type": "execute_result"
    }
   ],
   "source": [
    " num1"
   ]
  },
  {
   "cell_type": "code",
   "execution_count": 7,
   "id": "81560942",
   "metadata": {},
   "outputs": [],
   "source": [
    "num1-=5"
   ]
  },
  {
   "cell_type": "code",
   "execution_count": 8,
   "id": "da5175c7",
   "metadata": {},
   "outputs": [
    {
     "data": {
      "text/plain": [
       "15"
      ]
     },
     "execution_count": 8,
     "metadata": {},
     "output_type": "execute_result"
    }
   ],
   "source": [
    "num1"
   ]
  },
  {
   "cell_type": "code",
   "execution_count": 9,
   "id": "e0bacfc2",
   "metadata": {},
   "outputs": [],
   "source": [
    "num2=3"
   ]
  },
  {
   "cell_type": "code",
   "execution_count": 10,
   "id": "402a09f8",
   "metadata": {},
   "outputs": [],
   "source": [
    "num2+=5    #num2=num2+5 = 8"
   ]
  },
  {
   "cell_type": "code",
   "execution_count": 11,
   "id": "be972ea5",
   "metadata": {},
   "outputs": [
    {
     "data": {
      "text/plain": [
       "8"
      ]
     },
     "execution_count": 11,
     "metadata": {},
     "output_type": "execute_result"
    }
   ],
   "source": [
    "num2"
   ]
  },
  {
   "cell_type": "code",
   "execution_count": 38,
   "id": "1e51b811",
   "metadata": {},
   "outputs": [],
   "source": [
    "num2+=4"
   ]
  },
  {
   "cell_type": "code",
   "execution_count": 39,
   "id": "ae4f12c9",
   "metadata": {},
   "outputs": [
    {
     "data": {
      "text/plain": [
       "12"
      ]
     },
     "execution_count": 39,
     "metadata": {},
     "output_type": "execute_result"
    }
   ],
   "source": [
    "num2"
   ]
  },
  {
   "cell_type": "code",
   "execution_count": 40,
   "id": "4eb2cc6f",
   "metadata": {},
   "outputs": [],
   "source": [
    "num2-=2"
   ]
  },
  {
   "cell_type": "code",
   "execution_count": 41,
   "id": "d06b7be5",
   "metadata": {},
   "outputs": [
    {
     "data": {
      "text/plain": [
       "10"
      ]
     },
     "execution_count": 41,
     "metadata": {},
     "output_type": "execute_result"
    }
   ],
   "source": [
    "num2"
   ]
  },
  {
   "cell_type": "code",
   "execution_count": 42,
   "id": "080c6c95",
   "metadata": {},
   "outputs": [],
   "source": [
    "num2-=12"
   ]
  },
  {
   "cell_type": "code",
   "execution_count": 43,
   "id": "e480acbd",
   "metadata": {},
   "outputs": [
    {
     "data": {
      "text/plain": [
       "-2"
      ]
     },
     "execution_count": 43,
     "metadata": {},
     "output_type": "execute_result"
    }
   ],
   "source": [
    "num2"
   ]
  },
  {
   "cell_type": "code",
   "execution_count": 44,
   "id": "31e1ff8f",
   "metadata": {},
   "outputs": [],
   "source": [
    "num2-=8"
   ]
  },
  {
   "cell_type": "code",
   "execution_count": 45,
   "id": "20225358",
   "metadata": {},
   "outputs": [
    {
     "data": {
      "text/plain": [
       "-10"
      ]
     },
     "execution_count": 45,
     "metadata": {},
     "output_type": "execute_result"
    }
   ],
   "source": [
    "num2"
   ]
  },
  {
   "cell_type": "code",
   "execution_count": 46,
   "id": "8cfb3b40",
   "metadata": {},
   "outputs": [],
   "source": [
    "num4=5"
   ]
  },
  {
   "cell_type": "code",
   "execution_count": 47,
   "id": "dee079a0",
   "metadata": {},
   "outputs": [],
   "source": [
    "num4**=2"
   ]
  },
  {
   "cell_type": "code",
   "execution_count": 48,
   "id": "a33c9f55",
   "metadata": {},
   "outputs": [
    {
     "data": {
      "text/plain": [
       "25"
      ]
     },
     "execution_count": 48,
     "metadata": {},
     "output_type": "execute_result"
    }
   ],
   "source": [
    "num4"
   ]
  },
  {
   "cell_type": "code",
   "execution_count": 49,
   "id": "df057b78",
   "metadata": {},
   "outputs": [],
   "source": [
    "num4/=2"
   ]
  },
  {
   "cell_type": "code",
   "execution_count": 50,
   "id": "f4b8cee3",
   "metadata": {},
   "outputs": [
    {
     "data": {
      "text/plain": [
       "12.5"
      ]
     },
     "execution_count": 50,
     "metadata": {},
     "output_type": "execute_result"
    }
   ],
   "source": [
    "num4"
   ]
  },
  {
   "cell_type": "code",
   "execution_count": 51,
   "id": "4e52cb7c",
   "metadata": {},
   "outputs": [],
   "source": [
    "num5=30"
   ]
  },
  {
   "cell_type": "code",
   "execution_count": 52,
   "id": "9142459c",
   "metadata": {},
   "outputs": [],
   "source": [
    "num5//=2"
   ]
  },
  {
   "cell_type": "code",
   "execution_count": 53,
   "id": "619ba316",
   "metadata": {},
   "outputs": [
    {
     "data": {
      "text/plain": [
       "15"
      ]
     },
     "execution_count": 53,
     "metadata": {},
     "output_type": "execute_result"
    }
   ],
   "source": [
    "num5"
   ]
  },
  {
   "cell_type": "code",
   "execution_count": 54,
   "id": "b9432cc9",
   "metadata": {},
   "outputs": [],
   "source": [
    "num5%=2"
   ]
  },
  {
   "cell_type": "code",
   "execution_count": 55,
   "id": "d8fe859f",
   "metadata": {},
   "outputs": [
    {
     "data": {
      "text/plain": [
       "1"
      ]
     },
     "execution_count": 55,
     "metadata": {},
     "output_type": "execute_result"
    }
   ],
   "source": [
    "num5"
   ]
  },
  {
   "cell_type": "code",
   "execution_count": 56,
   "id": "9e488ba3",
   "metadata": {},
   "outputs": [],
   "source": [
    "#  5.Identiy operators(is,is not)\n"
   ]
  },
  {
   "cell_type": "code",
   "execution_count": 57,
   "id": "26d67a69",
   "metadata": {},
   "outputs": [],
   "source": [
    "num1=3\n",
    "num2=5"
   ]
  },
  {
   "cell_type": "code",
   "execution_count": 58,
   "id": "c0ab01b2",
   "metadata": {},
   "outputs": [
    {
     "data": {
      "text/plain": [
       "False"
      ]
     },
     "execution_count": 58,
     "metadata": {},
     "output_type": "execute_result"
    }
   ],
   "source": [
    "num1 is num2"
   ]
  },
  {
   "cell_type": "code",
   "execution_count": 59,
   "id": "cf49fa72",
   "metadata": {},
   "outputs": [],
   "source": [
    "p=10\n",
    "q=10\n"
   ]
  },
  {
   "cell_type": "code",
   "execution_count": 60,
   "id": "f549ae95",
   "metadata": {},
   "outputs": [
    {
     "data": {
      "text/plain": [
       "True"
      ]
     },
     "execution_count": 60,
     "metadata": {},
     "output_type": "execute_result"
    }
   ],
   "source": [
    "p is q"
   ]
  },
  {
   "cell_type": "code",
   "execution_count": 61,
   "id": "5ce7aed1",
   "metadata": {},
   "outputs": [
    {
     "data": {
      "text/plain": [
       "False"
      ]
     },
     "execution_count": 61,
     "metadata": {},
     "output_type": "execute_result"
    }
   ],
   "source": [
    "p is not q"
   ]
  },
  {
   "cell_type": "code",
   "execution_count": 62,
   "id": "dbe354ea",
   "metadata": {},
   "outputs": [],
   "source": [
    "#  6.Membership operator(in,not in)\n"
   ]
  },
  {
   "cell_type": "code",
   "execution_count": 63,
   "id": "c97e1ee7",
   "metadata": {},
   "outputs": [],
   "source": [
    "str1 = 'zeal college of engineering'\n",
    "x = 'of'\n"
   ]
  },
  {
   "cell_type": "code",
   "execution_count": 64,
   "id": "f1b70911",
   "metadata": {},
   "outputs": [
    {
     "data": {
      "text/plain": [
       "True"
      ]
     },
     "execution_count": 64,
     "metadata": {},
     "output_type": "execute_result"
    }
   ],
   "source": [
    "x in str1"
   ]
  },
  {
   "cell_type": "code",
   "execution_count": 65,
   "id": "9d8cf391",
   "metadata": {},
   "outputs": [
    {
     "data": {
      "text/plain": [
       "False"
      ]
     },
     "execution_count": 65,
     "metadata": {},
     "output_type": "execute_result"
    }
   ],
   "source": [
    "x not in str1"
   ]
  },
  {
   "cell_type": "code",
   "execution_count": 66,
   "id": "1216826f",
   "metadata": {},
   "outputs": [
    {
     "data": {
      "text/plain": [
       "False"
      ]
     },
     "execution_count": 66,
     "metadata": {},
     "output_type": "execute_result"
    }
   ],
   "source": [
    "str1 in x"
   ]
  },
  {
   "cell_type": "code",
   "execution_count": 67,
   "id": "5de3e058",
   "metadata": {},
   "outputs": [
    {
     "data": {
      "text/plain": [
       "True"
      ]
     },
     "execution_count": 67,
     "metadata": {},
     "output_type": "execute_result"
    }
   ],
   "source": [
    "str1 not in x"
   ]
  },
  {
   "cell_type": "code",
   "execution_count": 68,
   "id": "8522145e",
   "metadata": {},
   "outputs": [],
   "source": [
    "str1 = 'zeal college of engineering'\n",
    "x = 'z'"
   ]
  },
  {
   "cell_type": "code",
   "execution_count": 69,
   "id": "b3be6bd1",
   "metadata": {},
   "outputs": [
    {
     "data": {
      "text/plain": [
       "True"
      ]
     },
     "execution_count": 69,
     "metadata": {},
     "output_type": "execute_result"
    }
   ],
   "source": [
    "x in str1"
   ]
  },
  {
   "cell_type": "code",
   "execution_count": 70,
   "id": "ccdb8035",
   "metadata": {},
   "outputs": [],
   "source": [
    "str1 = 'zeal college of engineering'\n",
    "x = ' z'"
   ]
  },
  {
   "cell_type": "code",
   "execution_count": 71,
   "id": "74e0db46",
   "metadata": {},
   "outputs": [
    {
     "data": {
      "text/plain": [
       "False"
      ]
     },
     "execution_count": 71,
     "metadata": {},
     "output_type": "execute_result"
    }
   ],
   "source": [
    "x in str1"
   ]
  },
  {
   "cell_type": "code",
   "execution_count": 12,
   "id": "e2ff15e7",
   "metadata": {},
   "outputs": [
    {
     "name": "stdout",
     "output_type": "stream",
     "text": [
      "True\n"
     ]
    }
   ],
   "source": [
    "a=\"abcdifg\"\n",
    "print(\"a\" in a)"
   ]
  },
  {
   "cell_type": "code",
   "execution_count": 17,
   "id": "56d6b3a6",
   "metadata": {},
   "outputs": [
    {
     "name": "stdout",
     "output_type": "stream",
     "text": [
      "False\n",
      "True\n",
      "False\n"
     ]
    }
   ],
   "source": [
    "a=\"hfhfhf\"\n",
    "print(\"s\" in a)\n",
    "print('f' in a)\n",
    "print(\" \" in a)"
   ]
  },
  {
   "cell_type": "code",
   "execution_count": 19,
   "id": "a29a25bb",
   "metadata": {},
   "outputs": [
    {
     "name": "stdout",
     "output_type": "stream",
     "text": [
      "True\n"
     ]
    }
   ],
   "source": [
    "a =\"vikee@gmail.com\"\n",
    "print(\"@\" and \".\" in a)"
   ]
  },
  {
   "cell_type": "code",
   "execution_count": 25,
   "id": "a27122f8",
   "metadata": {},
   "outputs": [
    {
     "name": "stdout",
     "output_type": "stream",
     "text": [
      "True\n",
      "False\n",
      "no :3\n",
      "True\n",
      "chr:d\n",
      "False\n",
      "True\n"
     ]
    }
   ],
   "source": [
    "d = [1,2,3,4,5,\"s\",\"v\"]\n",
    "print(2 in d)\n",
    "print(22 in d)\n",
    "a = int(input(\"no :\"))\n",
    "print(a in d)\n",
    "c = str(input(\"chr:\"))\n",
    "print(c in d)\n",
    "print(c not in d)"
   ]
  },
  {
   "cell_type": "code",
   "execution_count": 72,
   "id": "d767bc7d",
   "metadata": {},
   "outputs": [],
   "source": [
    "#  7.bitwise oprators(&,|,~,^,<<,>>,-)\n"
   ]
  },
  {
   "cell_type": "code",
   "execution_count": 73,
   "id": "2f1c94df",
   "metadata": {},
   "outputs": [],
   "source": [
    "num1 = 4\n",
    "num2 = 6"
   ]
  },
  {
   "cell_type": "code",
   "execution_count": 74,
   "id": "595cea2e",
   "metadata": {},
   "outputs": [
    {
     "data": {
      "text/plain": [
       "4"
      ]
     },
     "execution_count": 74,
     "metadata": {},
     "output_type": "execute_result"
    }
   ],
   "source": [
    "num1 & num2"
   ]
  },
  {
   "cell_type": "code",
   "execution_count": 75,
   "id": "6fe083dc",
   "metadata": {},
   "outputs": [
    {
     "data": {
      "text/plain": [
       "'0b100'"
      ]
     },
     "execution_count": 75,
     "metadata": {},
     "output_type": "execute_result"
    }
   ],
   "source": [
    "bin(4)"
   ]
  },
  {
   "cell_type": "code",
   "execution_count": 76,
   "id": "1516a250",
   "metadata": {},
   "outputs": [
    {
     "data": {
      "text/plain": [
       "'0b110'"
      ]
     },
     "execution_count": 76,
     "metadata": {},
     "output_type": "execute_result"
    }
   ],
   "source": [
    "bin(6)"
   ]
  },
  {
   "cell_type": "code",
   "execution_count": 77,
   "id": "664bdef6",
   "metadata": {},
   "outputs": [
    {
     "data": {
      "text/plain": [
       "'0b100'"
      ]
     },
     "execution_count": 77,
     "metadata": {},
     "output_type": "execute_result"
    }
   ],
   "source": [
    "bin(num1)"
   ]
  },
  {
   "cell_type": "code",
   "execution_count": 78,
   "id": "85b796a8",
   "metadata": {},
   "outputs": [
    {
     "data": {
      "text/plain": [
       "6"
      ]
     },
     "execution_count": 78,
     "metadata": {},
     "output_type": "execute_result"
    }
   ],
   "source": [
    "num1 | num2"
   ]
  },
  {
   "cell_type": "code",
   "execution_count": 79,
   "id": "85eb9020",
   "metadata": {},
   "outputs": [
    {
     "data": {
      "text/plain": [
       "-5"
      ]
     },
     "execution_count": 79,
     "metadata": {},
     "output_type": "execute_result"
    }
   ],
   "source": [
    "~num1"
   ]
  },
  {
   "cell_type": "code",
   "execution_count": 80,
   "id": "456f49f0",
   "metadata": {},
   "outputs": [
    {
     "data": {
      "text/plain": [
       "4"
      ]
     },
     "execution_count": 80,
     "metadata": {},
     "output_type": "execute_result"
    }
   ],
   "source": [
    "~(-5)"
   ]
  },
  {
   "cell_type": "code",
   "execution_count": 81,
   "id": "92901af1",
   "metadata": {},
   "outputs": [
    {
     "data": {
      "text/plain": [
       "16"
      ]
     },
     "execution_count": 81,
     "metadata": {},
     "output_type": "execute_result"
    }
   ],
   "source": [
    "num1<< 2"
   ]
  },
  {
   "cell_type": "code",
   "execution_count": 82,
   "id": "3cb782cc",
   "metadata": {},
   "outputs": [],
   "source": [
    "num3=5\n",
    "num4=8\n"
   ]
  },
  {
   "cell_type": "code",
   "execution_count": 83,
   "id": "4003187a",
   "metadata": {},
   "outputs": [
    {
     "data": {
      "text/plain": [
       "20"
      ]
     },
     "execution_count": 83,
     "metadata": {},
     "output_type": "execute_result"
    }
   ],
   "source": [
    "num3<<2"
   ]
  },
  {
   "cell_type": "code",
   "execution_count": 84,
   "id": "2da68d13",
   "metadata": {},
   "outputs": [
    {
     "data": {
      "text/plain": [
       "1"
      ]
     },
     "execution_count": 84,
     "metadata": {},
     "output_type": "execute_result"
    }
   ],
   "source": [
    "num3>>2"
   ]
  },
  {
   "cell_type": "markdown",
   "id": "12182050",
   "metadata": {},
   "source": [
    "# Comments"
   ]
  },
  {
   "cell_type": "raw",
   "id": "bfb6fc68",
   "metadata": {},
   "source": [
    "two type of comment:\n",
    "   1 single line (#)\n",
    "   2 multi lines ('''   ''') "
   ]
  },
  {
   "cell_type": "code",
   "execution_count": 85,
   "id": "4e63497c",
   "metadata": {},
   "outputs": [],
   "source": [
    "a =3 # here we are assinging 3 to variable a \n",
    "b =4 # here we are ssinging 4 to variable b\n",
    "d = a+ b   # we are  adding value of variable d\n"
   ]
  },
  {
   "cell_type": "code",
   "execution_count": 86,
   "id": "76d062e0",
   "metadata": {},
   "outputs": [
    {
     "data": {
      "text/plain": [
       "7"
      ]
     },
     "execution_count": 86,
     "metadata": {},
     "output_type": "execute_result"
    }
   ],
   "source": [
    "d"
   ]
  },
  {
   "cell_type": "code",
   "execution_count": 87,
   "id": "45bdb7a4",
   "metadata": {},
   "outputs": [
    {
     "data": {
      "text/plain": [
       "'we are doing addition oof two numbers program\\nwhere we are shorting values in a and b variables\\n'"
      ]
     },
     "execution_count": 87,
     "metadata": {},
     "output_type": "execute_result"
    }
   ],
   "source": [
    "'''we are doing addition oof two numbers program\n",
    "where we are shorting values in a and b variables\n",
    "'''"
   ]
  },
  {
   "cell_type": "markdown",
   "id": "edf88986",
   "metadata": {},
   "source": [
    "# Output"
   ]
  },
  {
   "cell_type": "code",
   "execution_count": 88,
   "id": "60a755bd",
   "metadata": {},
   "outputs": [
    {
     "ename": "SyntaxError",
     "evalue": "invalid syntax (Temp/ipykernel_17296/3206666507.py, line 1)",
     "output_type": "error",
     "traceback": [
      "\u001b[1;36m  File \u001b[1;32m\"C:\\Users\\VIKEED~1\\AppData\\Local\\Temp/ipykernel_17296/3206666507.py\"\u001b[1;36m, line \u001b[1;32m1\u001b[0m\n\u001b[1;33m    input -->processing--->output(result)\u001b[0m\n\u001b[1;37m           ^\u001b[0m\n\u001b[1;31mSyntaxError\u001b[0m\u001b[1;31m:\u001b[0m invalid syntax\n"
     ]
    }
   ],
   "source": [
    "input -->processing--->output(result)\n"
   ]
  },
  {
   "cell_type": "raw",
   "id": "d8a91f78",
   "metadata": {},
   "source": [
    "output -in python we have print()as a output function \n",
    "print('message/statment')\n",
    "print('message',variable/expression)"
   ]
  },
  {
   "cell_type": "code",
   "execution_count": 89,
   "id": "50713dcb",
   "metadata": {},
   "outputs": [
    {
     "name": "stdout",
     "output_type": "stream",
     "text": [
      "welcome you all in fuel traning institute\n"
     ]
    }
   ],
   "source": [
    "print('welcome you all in fuel traning institute')"
   ]
  },
  {
   "cell_type": "code",
   "execution_count": 90,
   "id": "a0fefe11",
   "metadata": {},
   "outputs": [
    {
     "name": "stdout",
     "output_type": "stream",
     "text": [
      "welcome you all in fuel traning institute\n"
     ]
    }
   ],
   "source": [
    "print(\"welcome you all in fuel traning institute\")"
   ]
  },
  {
   "cell_type": "code",
   "execution_count": 91,
   "id": "27005744",
   "metadata": {},
   "outputs": [
    {
     "name": "stdout",
     "output_type": "stream",
     "text": [
      "we are doing addition of two numbers\n",
      "adition of two numbers is : 14\n"
     ]
    }
   ],
   "source": [
    "print(\"we are doing addition of two numbers\")\n",
    "a=4\n",
    "b=10\n",
    "print(\"adition of two numbers is :\",a+b)"
   ]
  },
  {
   "cell_type": "code",
   "execution_count": 92,
   "id": "b8752c63",
   "metadata": {},
   "outputs": [
    {
     "name": "stdout",
     "output_type": "stream",
     "text": [
      "we are doing addition of two numbers\n",
      "adition of two numbers is : 14\n"
     ]
    }
   ],
   "source": [
    "print(\"we are doing addition of two numbers\")\n",
    "a=4\n",
    "b=10\n",
    "result=a+b\n",
    "print(\"adition of two numbers is :\",result)"
   ]
  },
  {
   "cell_type": "code",
   "execution_count": 94,
   "id": "f4ba7332",
   "metadata": {},
   "outputs": [
    {
     "name": "stdout",
     "output_type": "stream",
     "text": [
      "we are doing addition of two numbers\n",
      "1st number: 4\n",
      "2nd number: 10\n",
      "adition of two numbers is : 14\n"
     ]
    }
   ],
   "source": [
    "print(\"we are doing addition of two numbers\")\n",
    "a=4\n",
    "b=10\n",
    "print('1st number:',a)\n",
    "print('2nd number:',b)\n",
    "print(\"adition of two numbers is :\",a+b)"
   ]
  },
  {
   "cell_type": "code",
   "execution_count": 95,
   "id": "2dc30b10",
   "metadata": {},
   "outputs": [
    {
     "ename": "NameError",
     "evalue": "name 'var' is not defined",
     "output_type": "error",
     "traceback": [
      "\u001b[1;31m---------------------------------------------------------------------------\u001b[0m",
      "\u001b[1;31mNameError\u001b[0m                                 Traceback (most recent call last)",
      "\u001b[1;32mC:\\Users\\VIKEED~1\\AppData\\Local\\Temp/ipykernel_17296/3434057895.py\u001b[0m in \u001b[0;36m<module>\u001b[1;34m\u001b[0m\n\u001b[0;32m      1\u001b[0m \u001b[1;31m# print satment with f'string'\u001b[0m\u001b[1;33m\u001b[0m\u001b[1;33m\u001b[0m\u001b[0m\n\u001b[0;32m      2\u001b[0m \u001b[1;33m\u001b[0m\u001b[0m\n\u001b[1;32m----> 3\u001b[1;33m \u001b[0mprint\u001b[0m\u001b[1;33m(\u001b[0m\u001b[1;34mf'statment{var}'\u001b[0m\u001b[1;33m)\u001b[0m\u001b[1;33m\u001b[0m\u001b[1;33m\u001b[0m\u001b[0m\n\u001b[0m",
      "\u001b[1;31mNameError\u001b[0m: name 'var' is not defined"
     ]
    }
   ],
   "source": [
    "# print satment with f'string'\n",
    "\n",
    "print(f'statment{var}')"
   ]
  },
  {
   "cell_type": "code",
   "execution_count": 96,
   "id": "678036bb",
   "metadata": {},
   "outputs": [
    {
     "name": "stdout",
     "output_type": "stream",
     "text": [
      "statement 10\n"
     ]
    }
   ],
   "source": [
    "var=10\n",
    "print(f\"statement {var}\")"
   ]
  },
  {
   "cell_type": "code",
   "execution_count": 97,
   "id": "1929d84d",
   "metadata": {},
   "outputs": [
    {
     "name": "stdout",
     "output_type": "stream",
     "text": [
      "var value is 20\n"
     ]
    }
   ],
   "source": [
    "var= 20\n",
    "print(f\"var value is {var}\")"
   ]
  },
  {
   "cell_type": "code",
   "execution_count": 98,
   "id": "44fba600",
   "metadata": {},
   "outputs": [
    {
     "name": "stdout",
     "output_type": "stream",
     "text": [
      "addition of numbers 10 and 20 is : 30\n"
     ]
    }
   ],
   "source": [
    "num1=10\n",
    "num2=20\n",
    "result=num1+num2\n",
    "print(f'addition of numbers {num1} and {num2} is :',result)"
   ]
  },
  {
   "cell_type": "code",
   "execution_count": 99,
   "id": "03ecda9f",
   "metadata": {},
   "outputs": [
    {
     "name": "stdout",
     "output_type": "stream",
     "text": [
      "1st number : 10\n",
      "2nd number : 20\n",
      "addition of numbers 10 and 20 is :30\n"
     ]
    }
   ],
   "source": [
    "num1=10\n",
    "num2=20\n",
    "result=num1+num2\n",
    "print(\"1st number :\",num1)\n",
    "print(\"2nd number :\",num2)\n",
    "print(f'addition of numbers {num1} and {num2} is :{result}')"
   ]
  },
  {
   "cell_type": "code",
   "execution_count": 100,
   "id": "c6e6f592",
   "metadata": {},
   "outputs": [
    {
     "ename": "IndexError",
     "evalue": "Replacement index 0 out of range for positional args tuple",
     "output_type": "error",
     "traceback": [
      "\u001b[1;31m---------------------------------------------------------------------------\u001b[0m",
      "\u001b[1;31mIndexError\u001b[0m                                Traceback (most recent call last)",
      "\u001b[1;32mC:\\Users\\VIKEED~1\\AppData\\Local\\Temp/ipykernel_17296/1330157153.py\u001b[0m in \u001b[0;36m<module>\u001b[1;34m\u001b[0m\n\u001b[0;32m      1\u001b[0m \u001b[1;31m# format function in print\u001b[0m\u001b[1;33m\u001b[0m\u001b[1;33m\u001b[0m\u001b[0m\n\u001b[0;32m      2\u001b[0m \u001b[1;33m\u001b[0m\u001b[0m\n\u001b[1;32m----> 3\u001b[1;33m \u001b[0mprint\u001b[0m\u001b[1;33m(\u001b[0m\u001b[1;34m\"statement {}\"\u001b[0m\u001b[1;33m.\u001b[0m\u001b[0mformat\u001b[0m\u001b[1;33m(\u001b[0m\u001b[1;33m)\u001b[0m\u001b[1;33m)\u001b[0m\u001b[1;33m\u001b[0m\u001b[1;33m\u001b[0m\u001b[0m\n\u001b[0m",
      "\u001b[1;31mIndexError\u001b[0m: Replacement index 0 out of range for positional args tuple"
     ]
    }
   ],
   "source": [
    "# format function in print\n",
    "\n",
    "print(\"statement {}\".format())"
   ]
  },
  {
   "cell_type": "code",
   "execution_count": 101,
   "id": "0aaf388b",
   "metadata": {},
   "outputs": [
    {
     "name": "stdout",
     "output_type": "stream",
     "text": [
      "we are doing addition of two numbers\n",
      "addition of 20 and 30 number is 50 \n"
     ]
    }
   ],
   "source": [
    "print('we are doing addition of two numbers')\n",
    "num1=20\n",
    "num2=30\n",
    "\n",
    "result=num1+num2\n",
    "\n",
    "print('addition of {} and {} number is {} '.format(num1,num2,result))"
   ]
  },
  {
   "cell_type": "code",
   "execution_count": 102,
   "id": "bcec529f",
   "metadata": {},
   "outputs": [
    {
     "name": "stdout",
     "output_type": "stream",
     "text": [
      "we are doing addition of two numbers\n",
      "addition of 20 and 30 number is 50 \n"
     ]
    }
   ],
   "source": [
    "print('we are doing addition of two numbers')\n",
    "num1=20\n",
    "num2=30\n",
    "\n",
    "result=num1+num2\n",
    "\n",
    "print('addition of {0} and {1} number is {2} '.format(num1,num2,result))"
   ]
  },
  {
   "cell_type": "markdown",
   "id": "7b63e4a2",
   "metadata": {},
   "source": [
    "# Input function  "
   ]
  },
  {
   "cell_type": "code",
   "execution_count": 103,
   "id": "895f5f5c",
   "metadata": {},
   "outputs": [
    {
     "ename": "SyntaxError",
     "evalue": "invalid syntax (Temp/ipykernel_17296/2554847896.py, line 1)",
     "output_type": "error",
     "traceback": [
      "\u001b[1;36m  File \u001b[1;32m\"C:\\Users\\VIKEED~1\\AppData\\Local\\Temp/ipykernel_17296/2554847896.py\"\u001b[1;36m, line \u001b[1;32m1\u001b[0m\n\u001b[1;33m    input() is used for accepting values from user\u001b[0m\n\u001b[1;37m                    ^\u001b[0m\n\u001b[1;31mSyntaxError\u001b[0m\u001b[1;31m:\u001b[0m invalid syntax\n"
     ]
    }
   ],
   "source": [
    "input() is used for accepting values from user\n",
    "\n",
    "input()\n",
    "input('message')\n"
   ]
  },
  {
   "cell_type": "code",
   "execution_count": 104,
   "id": "aa0ec163",
   "metadata": {},
   "outputs": [
    {
     "name": "stdout",
     "output_type": "stream",
     "text": [
      "3\n",
      "3\n",
      "1st number is :  3\n",
      "2nd number is  :  3\n"
     ]
    }
   ],
   "source": [
    "num1=input('')\n",
    "num2=input('') \n",
    "\n",
    "print('1st number is : ',num1)\n",
    "print('2nd number is  : ',num2)\n",
    "\n"
   ]
  },
  {
   "cell_type": "code",
   "execution_count": 50,
   "id": "dcf64515",
   "metadata": {},
   "outputs": [
    {
     "name": "stdout",
     "output_type": "stream",
     "text": [
      "enter your value 1: 2\n",
      "enter your value 2: 6\n",
      "1st number is :  2\n",
      "2nd number is :  6\n",
      "result 26\n"
     ]
    }
   ],
   "source": [
    "num1=input(\"enter your value 1: \")\n",
    "num2=input(\"enter your value 2: \")\n",
    "print(\"1st number is : \",num1)\n",
    "print(\"2nd number is : \",num2)\n",
    "print('result',num1+num2)"
   ]
  },
  {
   "cell_type": "code",
   "execution_count": 51,
   "id": "7c13a9a0",
   "metadata": {},
   "outputs": [
    {
     "name": "stdout",
     "output_type": "stream",
     "text": [
      "enter your value 1: 6\n",
      "enter your value 2: 5\n",
      "1st number is :  6\n",
      "2nd number is :  5\n",
      "result 11\n"
     ]
    }
   ],
   "source": [
    "num1=int(input(\"enter your value 1: \"))\n",
    "num2=int(input(\"enter your value 2: \"))\n",
    "print(\"1st number is : \",num1)\n",
    "print(\"2nd number is : \",num2)\n",
    "print('result',num1+num2)"
   ]
  },
  {
   "cell_type": "code",
   "execution_count": 52,
   "id": "8b2d16fc",
   "metadata": {},
   "outputs": [
    {
     "name": "stdout",
     "output_type": "stream",
     "text": [
      "enter your value 1: 5\n",
      "enter your value 2: 8\n",
      "1st number is :  5\n",
      "<class 'int'>\n",
      "2nd number is :  8.0\n",
      "<class 'float'>\n",
      "result 13.0\n"
     ]
    }
   ],
   "source": [
    "num1=int(input(\"enter your value 1: \"))\n",
    "num2=float(input(\"enter your value 2: \"))\n",
    "\n",
    "print(\"1st number is : \",num1)\n",
    "print(type(num1))\n",
    "\n",
    "print(\"2nd number is : \",num2)\n",
    "print(type(num2))\n",
    "print('result',num1+num2)"
   ]
  },
  {
   "cell_type": "code",
   "execution_count": null,
   "id": "a024d7d4",
   "metadata": {},
   "outputs": [],
   "source": [
    "# Eval  function"
   ]
  },
  {
   "cell_type": "code",
   "execution_count": 53,
   "id": "4c5b2df9",
   "metadata": {},
   "outputs": [
    {
     "name": "stdout",
     "output_type": "stream",
     "text": [
      "enter your number: 3\n",
      "<class 'int'>\n"
     ]
    }
   ],
   "source": [
    "a = eval(input('enter your number: '))\n",
    "print(type(a))"
   ]
  },
  {
   "cell_type": "code",
   "execution_count": 54,
   "id": "854adad1",
   "metadata": {},
   "outputs": [
    {
     "name": "stdout",
     "output_type": "stream",
     "text": [
      "enter your number: 53.3\n",
      "<class 'float'>\n"
     ]
    }
   ],
   "source": [
    "a = eval(input('enter your number: '))\n",
    "print(type(a))"
   ]
  },
  {
   "cell_type": "code",
   "execution_count": null,
   "id": "e67698c4",
   "metadata": {},
   "outputs": [],
   "source": [
    "## write  the program to find the  area of circle\n",
    "# input --->process ---->output"
   ]
  },
  {
   "cell_type": "code",
   "execution_count": 56,
   "id": "d0c00bf8",
   "metadata": {},
   "outputs": [
    {
     "name": "stdout",
     "output_type": "stream",
     "text": [
      "enter  your radius value :5\n",
      "area of circle : 78.5\n",
      "perimeter of circle : 31.400000000000002\n"
     ]
    }
   ],
   "source": [
    "r = eval(input(\"enter  your radius value :\"))\n",
    "\n",
    "pi = 3.14\n",
    "area_of_circle = pi * r*r\n",
    "perimeter_of_circle = 2 * pi * r\n",
    "\n",
    "print('area of circle :',area_of_circle)\n",
    "print(\"perimeter of circle :\",perimeter_of_circle)"
   ]
  },
  {
   "cell_type": "code",
   "execution_count": 58,
   "id": "fe3146bb",
   "metadata": {},
   "outputs": [
    {
     "name": "stdout",
     "output_type": "stream",
     "text": [
      "enter your number: 2.3\n",
      "<class 'float'>\n"
     ]
    }
   ],
   "source": [
    "a = eval(input('enter your number: '))\n",
    "print(type(a))\n"
   ]
  },
  {
   "cell_type": "code",
   "execution_count": 59,
   "id": "96031c78",
   "metadata": {},
   "outputs": [
    {
     "name": "stdout",
     "output_type": "stream",
     "text": [
      "enter your number: [2,3,4,5,6]\n",
      "<class 'list'>\n"
     ]
    }
   ],
   "source": [
    "a = eval(input('enter your number: '))\n",
    "print(type(a))"
   ]
  },
  {
   "cell_type": "code",
   "execution_count": null,
   "id": "2d296a69",
   "metadata": {},
   "outputs": [],
   "source": []
  }
 ],
 "metadata": {
  "kernelspec": {
   "display_name": "Python 3 (ipykernel)",
   "language": "python",
   "name": "python3"
  },
  "language_info": {
   "codemirror_mode": {
    "name": "ipython",
    "version": 3
   },
   "file_extension": ".py",
   "mimetype": "text/x-python",
   "name": "python",
   "nbconvert_exporter": "python",
   "pygments_lexer": "ipython3",
   "version": "3.9.7"
  }
 },
 "nbformat": 4,
 "nbformat_minor": 5
}
