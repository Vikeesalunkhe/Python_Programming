{
 "cells": [
  {
   "cell_type": "markdown",
   "id": "50a04c3a",
   "metadata": {},
   "source": [
    "# variable"
   ]
  },
  {
   "cell_type": "code",
   "execution_count": 1,
   "id": "fc086b9d",
   "metadata": {},
   "outputs": [],
   "source": [
    "import keyword"
   ]
  },
  {
   "cell_type": "code",
   "execution_count": 2,
   "id": "12c7b2a3",
   "metadata": {
    "scrolled": true
   },
   "outputs": [
    {
     "name": "stdout",
     "output_type": "stream",
     "text": [
      "['False', 'None', 'True', '__peg_parser__', 'and', 'as', 'assert', 'async', 'await', 'break', 'class', 'continue', 'def', 'del', 'elif', 'else', 'except', 'finally', 'for', 'from', 'global', 'if', 'import', 'in', 'is', 'lambda', 'nonlocal', 'not', 'or', 'pass', 'raise', 'return', 'try', 'while', 'with', 'yield']\n"
     ]
    }
   ],
   "source": [
    "print(keyword.kwlist)"
   ]
  },
  {
   "cell_type": "code",
   "execution_count": 7,
   "id": "13f09724",
   "metadata": {},
   "outputs": [],
   "source": [
    "x =10"
   ]
  },
  {
   "cell_type": "code",
   "execution_count": 8,
   "id": "ee212609",
   "metadata": {},
   "outputs": [
    {
     "data": {
      "text/plain": [
       "10"
      ]
     },
     "execution_count": 8,
     "metadata": {},
     "output_type": "execute_result"
    }
   ],
   "source": [
    "x"
   ]
  },
  {
   "cell_type": "code",
   "execution_count": 9,
   "id": "d35e4e7c",
   "metadata": {},
   "outputs": [
    {
     "data": {
      "text/plain": [
       "int"
      ]
     },
     "execution_count": 9,
     "metadata": {},
     "output_type": "execute_result"
    }
   ],
   "source": [
    "type(x)"
   ]
  },
  {
   "cell_type": "code",
   "execution_count": 11,
   "id": "d17546d9",
   "metadata": {},
   "outputs": [
    {
     "data": {
      "text/plain": [
       "range(0, 10)"
      ]
     },
     "execution_count": 11,
     "metadata": {},
     "output_type": "execute_result"
    }
   ],
   "source": [
    "range(x)"
   ]
  },
  {
   "cell_type": "code",
   "execution_count": 12,
   "id": "8888553d",
   "metadata": {},
   "outputs": [
    {
     "name": "stdout",
     "output_type": "stream",
     "text": [
      "10\n"
     ]
    }
   ],
   "source": [
    "print(x)"
   ]
  },
  {
   "cell_type": "code",
   "execution_count": 13,
   "id": "fa89c1c3",
   "metadata": {},
   "outputs": [],
   "source": [
    "v =\"zeal\""
   ]
  },
  {
   "cell_type": "code",
   "execution_count": 14,
   "id": "08a820d3",
   "metadata": {},
   "outputs": [
    {
     "name": "stdout",
     "output_type": "stream",
     "text": [
      "zeal\n"
     ]
    }
   ],
   "source": [
    "print(v)"
   ]
  },
  {
   "cell_type": "code",
   "execution_count": 15,
   "id": "afbd2558",
   "metadata": {},
   "outputs": [
    {
     "ename": "SyntaxError",
     "evalue": "invalid syntax (Temp/ipykernel_4808/4051754867.py, line 1)",
     "output_type": "error",
     "traceback": [
      "\u001b[1;36m  File \u001b[1;32m\"C:\\Users\\VIKEED~1\\AppData\\Local\\Temp/ipykernel_4808/4051754867.py\"\u001b[1;36m, line \u001b[1;32m1\u001b[0m\n\u001b[1;33m    3demo=4\u001b[0m\n\u001b[1;37m     ^\u001b[0m\n\u001b[1;31mSyntaxError\u001b[0m\u001b[1;31m:\u001b[0m invalid syntax\n"
     ]
    }
   ],
   "source": [
    "3demo=4"
   ]
  },
  {
   "cell_type": "code",
   "execution_count": 16,
   "id": "33dcc67b",
   "metadata": {},
   "outputs": [],
   "source": [
    "_3demo=4\n"
   ]
  },
  {
   "cell_type": "code",
   "execution_count": 17,
   "id": "acf2c42b",
   "metadata": {},
   "outputs": [],
   "source": [
    "name=\"vikee\"\n",
    "pan_no='fgugfggi'\n",
    "class_no=745\n",
    "locatin=\"pune\"\n",
    "mobile_no=5323964"
   ]
  },
  {
   "cell_type": "code",
   "execution_count": 18,
   "id": "537b21b3",
   "metadata": {},
   "outputs": [
    {
     "data": {
      "text/plain": [
       "2024407196784"
      ]
     },
     "execution_count": 18,
     "metadata": {},
     "output_type": "execute_result"
    }
   ],
   "source": [
    "id(locatin)"
   ]
  },
  {
   "cell_type": "code",
   "execution_count": 19,
   "id": "99774559",
   "metadata": {},
   "outputs": [
    {
     "data": {
      "text/plain": [
       "2024407188464"
      ]
     },
     "execution_count": 19,
     "metadata": {},
     "output_type": "execute_result"
    }
   ],
   "source": [
    "id(name)"
   ]
  },
  {
   "cell_type": "code",
   "execution_count": 31,
   "id": "6502069f",
   "metadata": {},
   "outputs": [],
   "source": [
    "m=56   #object oreintation programming /same id "
   ]
  },
  {
   "cell_type": "code",
   "execution_count": 32,
   "id": "56cde06c",
   "metadata": {},
   "outputs": [
    {
     "data": {
      "text/plain": [
       "2024329728080"
      ]
     },
     "execution_count": 32,
     "metadata": {},
     "output_type": "execute_result"
    }
   ],
   "source": [
    "id(m)"
   ]
  },
  {
   "cell_type": "code",
   "execution_count": 33,
   "id": "7644a96b",
   "metadata": {},
   "outputs": [],
   "source": [
    "c=56"
   ]
  },
  {
   "cell_type": "code",
   "execution_count": 34,
   "id": "c2ea7b70",
   "metadata": {},
   "outputs": [
    {
     "data": {
      "text/plain": [
       "2024329728080"
      ]
     },
     "execution_count": 34,
     "metadata": {},
     "output_type": "execute_result"
    }
   ],
   "source": [
    "id(c)"
   ]
  },
  {
   "cell_type": "code",
   "execution_count": 35,
   "id": "21cd3247",
   "metadata": {},
   "outputs": [],
   "source": [
    "x,y,z='ram','sita','ravan'\n"
   ]
  },
  {
   "cell_type": "code",
   "execution_count": 36,
   "id": "401e1001",
   "metadata": {},
   "outputs": [
    {
     "data": {
      "text/plain": [
       "'ram'"
      ]
     },
     "execution_count": 36,
     "metadata": {},
     "output_type": "execute_result"
    }
   ],
   "source": [
    "x"
   ]
  },
  {
   "cell_type": "code",
   "execution_count": 37,
   "id": "cd90bb31",
   "metadata": {},
   "outputs": [
    {
     "data": {
      "text/plain": [
       "'sita'"
      ]
     },
     "execution_count": 37,
     "metadata": {},
     "output_type": "execute_result"
    }
   ],
   "source": [
    "y"
   ]
  },
  {
   "cell_type": "code",
   "execution_count": 38,
   "id": "54573205",
   "metadata": {},
   "outputs": [
    {
     "data": {
      "text/plain": [
       "'ravan'"
      ]
     },
     "execution_count": 38,
     "metadata": {},
     "output_type": "execute_result"
    }
   ],
   "source": [
    "z"
   ]
  },
  {
   "cell_type": "code",
   "execution_count": null,
   "id": "3546a6fa",
   "metadata": {},
   "outputs": [],
   "source": []
  }
 ],
 "metadata": {
  "kernelspec": {
   "display_name": "Python 3 (ipykernel)",
   "language": "python",
   "name": "python3"
  },
  "language_info": {
   "codemirror_mode": {
    "name": "ipython",
    "version": 3
   },
   "file_extension": ".py",
   "mimetype": "text/x-python",
   "name": "python",
   "nbconvert_exporter": "python",
   "pygments_lexer": "ipython3",
   "version": "3.9.7"
  }
 },
 "nbformat": 4,
 "nbformat_minor": 5
}
