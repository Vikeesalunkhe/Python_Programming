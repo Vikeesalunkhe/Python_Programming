{
 "cells": [
  {
   "cell_type": "markdown",
   "id": "411bc020",
   "metadata": {},
   "source": [
    "# function defination in python"
   ]
  },
  {
   "cell_type": "code",
   "execution_count": null,
   "id": "2ba9a078",
   "metadata": {},
   "outputs": [],
   "source": [
    "def data():\n",
    "    print(\"first data call\")"
   ]
  },
  {
   "cell_type": "code",
   "execution_count": 2,
   "id": "49737c11",
   "metadata": {},
   "outputs": [
    {
     "name": "stdout",
     "output_type": "stream",
     "text": [
      "first data call\n"
     ]
    }
   ],
   "source": [
    "data()      #calling funtion"
   ]
  },
  {
   "cell_type": "code",
   "execution_count": 9,
   "id": "1276437c",
   "metadata": {},
   "outputs": [],
   "source": [
    "def student_data(name,roll_no):\n",
    "    print(name)\n",
    "    print(roll_no)"
   ]
  },
  {
   "cell_type": "code",
   "execution_count": 10,
   "id": "ed26a19b",
   "metadata": {},
   "outputs": [
    {
     "name": "stdout",
     "output_type": "stream",
     "text": [
      "vikee\n",
      "586\n"
     ]
    }
   ],
   "source": [
    "student_data(\"vikee\",586)"
   ]
  },
  {
   "cell_type": "code",
   "execution_count": 11,
   "id": "71f82b57",
   "metadata": {},
   "outputs": [
    {
     "name": "stdout",
     "output_type": "stream",
     "text": [
      "vaibahv\n",
      "487\n"
     ]
    }
   ],
   "source": [
    "student_data(name=\"vaibahv\",roll_no=487)"
   ]
  },
  {
   "cell_type": "code",
   "execution_count": 12,
   "id": "33c0a485",
   "metadata": {},
   "outputs": [
    {
     "name": "stdout",
     "output_type": "stream",
     "text": [
      "wlcome to first function\n"
     ]
    }
   ],
   "source": [
    "def disply():\n",
    "    print(\"wlcome to first function\")\n",
    "    \n",
    "    \n",
    "disply()\n",
    "    "
   ]
  },
  {
   "cell_type": "code",
   "execution_count": 13,
   "id": "117adc6c",
   "metadata": {},
   "outputs": [],
   "source": [
    "def data():\n",
    "    print(\"first data call\")\n",
    "    \n",
    "def addition():\n",
    "    a=int(input(\"enter the no :\"))\n",
    "    b=int(input(\"enter the no :\"))\n",
    "    c= a+b\n",
    "    print(c)"
   ]
  },
  {
   "cell_type": "code",
   "execution_count": 14,
   "id": "86fa6d9c",
   "metadata": {},
   "outputs": [
    {
     "name": "stdout",
     "output_type": "stream",
     "text": [
      "enter the no :5\n",
      "enter the no :3\n",
      "8\n"
     ]
    }
   ],
   "source": [
    "addition()"
   ]
  },
  {
   "cell_type": "markdown",
   "id": "ae5d8705",
   "metadata": {},
   "source": [
    "# parameters in function call by value"
   ]
  },
  {
   "cell_type": "code",
   "execution_count": 22,
   "id": "47fc9f6d",
   "metadata": {},
   "outputs": [],
   "source": [
    "def xyz():\n",
    "    a =100\n",
    "    print(a)\n",
    "    a=a+10\n",
    "    print(a)\n",
    "    print(id(a))      # def fuction id is different"
   ]
  },
  {
   "cell_type": "code",
   "execution_count": 23,
   "id": "d96a7dec",
   "metadata": {},
   "outputs": [
    {
     "name": "stdout",
     "output_type": "stream",
     "text": [
      "100\n",
      "110\n",
      "1847540668176\n"
     ]
    }
   ],
   "source": [
    "xyz()"
   ]
  },
  {
   "cell_type": "code",
   "execution_count": 24,
   "id": "94802090",
   "metadata": {},
   "outputs": [
    {
     "name": "stdout",
     "output_type": "stream",
     "text": [
      "1847540667856\n"
     ]
    }
   ],
   "source": [
    "a=100\n",
    "print(id(a))"
   ]
  },
  {
   "cell_type": "code",
   "execution_count": 35,
   "id": "47cdcb77",
   "metadata": {},
   "outputs": [
    {
     "name": "stdout",
     "output_type": "stream",
     "text": [
      "100\n",
      "vikee\n"
     ]
    }
   ],
   "source": [
    "def call_by_value(n):    #call_by_value funtion     n: parameter\n",
    "    print(n)\n",
    "    \n",
    "c=100      #arguments\n",
    "b=\"vikee\"\n",
    "call_by_value(c)\n",
    "call_by_value(b)\n",
    "\n",
    "    "
   ]
  },
  {
   "cell_type": "markdown",
   "id": "a3e4ee44",
   "metadata": {},
   "source": [
    "# types of arguments"
   ]
  },
  {
   "cell_type": "raw",
   "id": "45eb2da0",
   "metadata": {},
   "source": [
    "1 actual and formal\n",
    "2 position argument\n",
    "3 keyword argument\n",
    "4 defailt argument\n",
    "5 variable lenghth argumnet\n"
   ]
  },
  {
   "cell_type": "code",
   "execution_count": 37,
   "id": "c99bbeec",
   "metadata": {},
   "outputs": [
    {
     "name": "stdout",
     "output_type": "stream",
     "text": [
      "40\n"
     ]
    }
   ],
   "source": [
    "def display(a,b):\n",
    "    c=a+b\n",
    "    print(c)\n",
    "    \n",
    "a=10   #actual argumnet\n",
    "b=30\n",
    "display(a,b)\n"
   ]
  },
  {
   "cell_type": "code",
   "execution_count": 38,
   "id": "b452b453",
   "metadata": {},
   "outputs": [
    {
     "name": "stdout",
     "output_type": "stream",
     "text": [
      "40\n"
     ]
    }
   ],
   "source": [
    "def display(x,y):\n",
    "    c=a+b\n",
    "    print(c)\n",
    "    \n",
    "a=10   #actual argumnet\n",
    "b=30\n",
    "display(a,b)\n"
   ]
  },
  {
   "cell_type": "code",
   "execution_count": 40,
   "id": "f5baf9d8",
   "metadata": {},
   "outputs": [
    {
     "name": "stdout",
     "output_type": "stream",
     "text": [
      "40\n"
     ]
    }
   ],
   "source": [
    "def display(sd,sf):\n",
    "    c=a+b\n",
    "    print(c)\n",
    "    \n",
    "a=10   #actual argumnet\n",
    "b=30\n",
    "display(a,b)\n"
   ]
  },
  {
   "cell_type": "code",
   "execution_count": 41,
   "id": "1b2d10df",
   "metadata": {},
   "outputs": [],
   "source": [
    "def student_data(name,roll_no):    #keyword argumnet\n",
    "    print(name)\n",
    "    print(roll_no)"
   ]
  },
  {
   "cell_type": "code",
   "execution_count": 42,
   "id": "dae0429f",
   "metadata": {},
   "outputs": [
    {
     "name": "stdout",
     "output_type": "stream",
     "text": [
      "vikee\n",
      "47\n"
     ]
    }
   ],
   "source": [
    "student_data(\"vikee\",47)"
   ]
  },
  {
   "cell_type": "code",
   "execution_count": 43,
   "id": "12bd588c",
   "metadata": {},
   "outputs": [
    {
     "name": "stdout",
     "output_type": "stream",
     "text": [
      "viabhav\n",
      "83\n"
     ]
    }
   ],
   "source": [
    "student_data(name=\"viabhav\",roll_no=83)"
   ]
  },
  {
   "cell_type": "code",
   "execution_count": 44,
   "id": "f5025543",
   "metadata": {},
   "outputs": [
    {
     "name": "stdout",
     "output_type": "stream",
     "text": [
      "100\n"
     ]
    }
   ],
   "source": [
    "def addition(a,b,c=30,d=40):     # defauilt argument \n",
    "    z=a+b+c+d\n",
    "    print(z)\n",
    "    \n",
    "addition(10,20)"
   ]
  },
  {
   "cell_type": "code",
   "execution_count": 48,
   "id": "aa3b6cc0",
   "metadata": {},
   "outputs": [
    {
     "name": "stdout",
     "output_type": "stream",
     "text": [
      "40\n",
      "75\n",
      "76\n"
     ]
    }
   ],
   "source": [
    "addition(10,10,10,10)\n",
    "addition(2,3)"
   ]
  },
  {
   "cell_type": "code",
   "execution_count": 53,
   "id": "8fed0ce6",
   "metadata": {},
   "outputs": [
    {
     "ename": "SyntaxError",
     "evalue": "non-default argument follows default argument (Temp/ipykernel_23968/2777420318.py, line 1)",
     "output_type": "error",
     "traceback": [
      "\u001b[1;36m  File \u001b[1;32m\"C:\\Users\\VIKEED~1\\AppData\\Local\\Temp/ipykernel_23968/2777420318.py\"\u001b[1;36m, line \u001b[1;32m1\u001b[0m\n\u001b[1;33m    def addition(a=30,b=10,c,d):     # defauilt argument\u001b[0m\n\u001b[1;37m                             ^\u001b[0m\n\u001b[1;31mSyntaxError\u001b[0m\u001b[1;31m:\u001b[0m non-default argument follows default argument\n"
     ]
    }
   ],
   "source": [
    "def addition(a=30,b=10,c,d):     # defauilt argument \n",
    "    z=a+b+c+d\n",
    "    print(z)\n",
    "\n",
    "\n",
    "addition(1,2,3,4)"
   ]
  },
  {
   "cell_type": "code",
   "execution_count": 1,
   "id": "f03b85f2",
   "metadata": {},
   "outputs": [],
   "source": [
    "#return by value"
   ]
  },
  {
   "cell_type": "code",
   "execution_count": 2,
   "id": "700edbf8",
   "metadata": {},
   "outputs": [
    {
     "data": {
      "text/plain": [
       "(5, -1, 6, 0.6666666666666666)"
      ]
     },
     "execution_count": 2,
     "metadata": {},
     "output_type": "execute_result"
    }
   ],
   "source": [
    "def test(a,b):\n",
    "    c=a+b\n",
    "    d=a-b\n",
    "    e=a*b\n",
    "    f=a/b\n",
    "    return c,d,e,f\n",
    "\n",
    "test(2,3)"
   ]
  },
  {
   "cell_type": "code",
   "execution_count": 5,
   "id": "f4e2ff6a",
   "metadata": {},
   "outputs": [
    {
     "name": "stdout",
     "output_type": "stream",
     "text": [
      "6\n",
      "2\n",
      "8\n",
      "2.0\n"
     ]
    }
   ],
   "source": [
    "def test(a,b):\n",
    "    c=a+b\n",
    "    d=a-b\n",
    "    e=a*b\n",
    "    f=a/b\n",
    "    return c,d,e,f\n",
    "\n",
    "m,n,o,p = test(4,2)\n",
    "print(m)\n",
    "print(n)\n",
    "print(o)\n",
    "print(p)\n"
   ]
  },
  {
   "cell_type": "code",
   "execution_count": 10,
   "id": "8da3e77f",
   "metadata": {},
   "outputs": [
    {
     "name": "stdout",
     "output_type": "stream",
     "text": [
      "enter the no  :5\n",
      "enter the no  :2\n",
      "7\n"
     ]
    }
   ],
   "source": [
    "def test(a,b):\n",
    "    c=a+b\n",
    "    d=a-b\n",
    "    e=a*b\n",
    "    f=a/b\n",
    "    return c,d,e,f\n",
    "\n",
    "a=int(input(\"enter the no  :\"))\n",
    "b=int(input(\"enter the no  :\"))\n",
    "A,B,C,D = test(a,b)\n",
    "print(A)\n"
   ]
  },
  {
   "cell_type": "markdown",
   "id": "47fea9fd",
   "metadata": {},
   "source": [
    "# function as an argumentsm"
   ]
  },
  {
   "cell_type": "code",
   "execution_count": 17,
   "id": "3c3bc7ce",
   "metadata": {},
   "outputs": [
    {
     "name": "stdout",
     "output_type": "stream",
     "text": [
      "python classvikee\n"
     ]
    }
   ],
   "source": [
    "def display(n):\n",
    "    return \"python class\" + n\n",
    "\n",
    "def msg():\n",
    "    return \"free course\"\n",
    "\n",
    "x=display(\"vikee\")\n",
    "print(x)"
   ]
  },
  {
   "cell_type": "code",
   "execution_count": 18,
   "id": "c59d0c77",
   "metadata": {},
   "outputs": [
    {
     "name": "stdout",
     "output_type": "stream",
     "text": [
      "python classfree course\n"
     ]
    }
   ],
   "source": [
    "def display(n):\n",
    "    return \"python class\" + n\n",
    "\n",
    "def msg():\n",
    "    return \"free course\"\n",
    "\n",
    "x=display(msg())    # n=msg()\n",
    "print(x)"
   ]
  },
  {
   "cell_type": "code",
   "execution_count": 51,
   "id": "338bbe19",
   "metadata": {},
   "outputs": [],
   "source": [
    "def data(a):\n",
    "    return \"data1 and second\" +a\n",
    "\n",
    "def vikee():\n",
    "    return \"zeal\"\n",
    "def vaibahv():\n",
    "    return \"jspm\""
   ]
  },
  {
   "cell_type": "code",
   "execution_count": 52,
   "id": "2624f789",
   "metadata": {},
   "outputs": [
    {
     "name": "stdout",
     "output_type": "stream",
     "text": [
      "data1 and secondzeal\n"
     ]
    }
   ],
   "source": [
    "x=data(vikee())\n",
    "print(x)"
   ]
  },
  {
   "cell_type": "code",
   "execution_count": 64,
   "id": "b9900b99",
   "metadata": {},
   "outputs": [
    {
     "name": "stdout",
     "output_type": "stream",
     "text": [
      "zeal college of\n"
     ]
    }
   ],
   "source": [
    "def test1(n):\n",
    "    return \"zeal \"+n\n",
    "def test2(p):\n",
    "    return \"college \" +p\n",
    "def testr3(q):\n",
    "    return \"of \"+q\n",
    "def test4():\n",
    "    return \"enginnering\" \n",
    "\n",
    "x=test1(test2(test3()))\n",
    "print(x)"
   ]
  },
  {
   "cell_type": "markdown",
   "id": "4f3718e3",
   "metadata": {},
   "source": [
    "# Global and Local variables"
   ]
  },
  {
   "cell_type": "code",
   "execution_count": 80,
   "id": "edf541ae",
   "metadata": {},
   "outputs": [],
   "source": [
    "a=200       #global\n",
    "b=400       #global variable\n",
    "def one():\n",
    "    a=50        #local variable\n",
    "    print(b)\n",
    "   \n",
    "    \n",
    "def two():\n",
    "    b=100      #local  variable\n",
    "    print(a)"
   ]
  },
  {
   "cell_type": "code",
   "execution_count": 81,
   "id": "68cc6bde",
   "metadata": {},
   "outputs": [
    {
     "name": "stdout",
     "output_type": "stream",
     "text": [
      "400\n",
      "200\n"
     ]
    }
   ],
   "source": [
    "one()\n",
    "two()"
   ]
  },
  {
   "cell_type": "code",
   "execution_count": 91,
   "id": "49a9b3d1",
   "metadata": {},
   "outputs": [],
   "source": [
    "a=50\n",
    "def test():\n",
    "    global a   # changes global value\n",
    "    a=a+10\n",
    "    print(a)\n",
    "    "
   ]
  },
  {
   "cell_type": "code",
   "execution_count": 92,
   "id": "5ef32f29",
   "metadata": {},
   "outputs": [
    {
     "name": "stdout",
     "output_type": "stream",
     "text": [
      "60\n",
      "60\n"
     ]
    }
   ],
   "source": [
    "test()\n",
    "print(a)"
   ]
  },
  {
   "cell_type": "code",
   "execution_count": null,
   "id": "f2811da5",
   "metadata": {},
   "outputs": [],
   "source": [
    "# Global vs globals"
   ]
  },
  {
   "cell_type": "code",
   "execution_count": 103,
   "id": "b1b35804",
   "metadata": {},
   "outputs": [],
   "source": [
    "a=100\n",
    "b=50\n",
    "\n",
    "def first():\n",
    "    a=5\n",
    "    b=10\n",
    "    print(\"locals value\",a,b)\n",
    "    x=globals()['a']\n",
    "    y=a\n",
    "    print(x)\n",
    "    print(y)\n",
    "    c=x+a\n",
    "    print(c)\n"
   ]
  },
  {
   "cell_type": "code",
   "execution_count": 104,
   "id": "5c5be002",
   "metadata": {},
   "outputs": [
    {
     "name": "stdout",
     "output_type": "stream",
     "text": [
      "locals value 5 10\n",
      "100\n",
      "5\n",
      "105\n"
     ]
    }
   ],
   "source": [
    "first()"
   ]
  },
  {
   "cell_type": "code",
   "execution_count": null,
   "id": "6258c851",
   "metadata": {},
   "outputs": [],
   "source": []
  },
  {
   "cell_type": "code",
   "execution_count": null,
   "id": "53d5489a",
   "metadata": {},
   "outputs": [],
   "source": []
  }
 ],
 "metadata": {
  "kernelspec": {
   "display_name": "Python 3 (ipykernel)",
   "language": "python",
   "name": "python3"
  },
  "language_info": {
   "codemirror_mode": {
    "name": "ipython",
    "version": 3
   },
   "file_extension": ".py",
   "mimetype": "text/x-python",
   "name": "python",
   "nbconvert_exporter": "python",
   "pygments_lexer": "ipython3",
   "version": "3.9.7"
  }
 },
 "nbformat": 4,
 "nbformat_minor": 5
}
