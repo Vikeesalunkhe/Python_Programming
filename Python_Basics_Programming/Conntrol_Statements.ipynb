{
 "cells": [
  {
   "cell_type": "markdown",
   "id": "287c51ba",
   "metadata": {},
   "source": [
    "## Control Statements"
   ]
  },
  {
   "cell_type": "raw",
   "id": "a88af30c",
   "metadata": {},
   "source": [
    "1.Conditional Control Statement \n",
    "2.Looping Control Statement\n",
    "3.Control Transfer Statement\n",
    "    "
   ]
  },
  {
   "cell_type": "raw",
   "id": "1ef38622",
   "metadata": {},
   "source": [
    "## 1.Conditional Control Statement \n",
    "\n",
    "-  On particular condition it is going to dicide wheter next statement need to execute or not , if condition is satisfiy will execute else it will not\n",
    "\n",
    "\n",
    "1.if satement\n",
    "2.if else satement\n",
    "3.if elif satement"
   ]
  },
  {
   "cell_type": "markdown",
   "id": "43dc55b8",
   "metadata": {},
   "source": [
    "## if statement\n"
   ]
  },
  {
   "cell_type": "code",
   "execution_count": 2,
   "id": "ffc6e6b7",
   "metadata": {},
   "outputs": [
    {
     "name": "stdout",
     "output_type": "stream",
     "text": [
      "enter your number1\n"
     ]
    }
   ],
   "source": [
    "x=eval(input('enter your number'))\n",
    "\n",
    "\n",
    "if (x>5):\n",
    "    print(\"x is greater the 5\")\n",
    " "
   ]
  },
  {
   "cell_type": "code",
   "execution_count": null,
   "id": "b14097ed",
   "metadata": {},
   "outputs": [],
   "source": [
    "x=eval(input('enter your number'))\n",
    "\n",
    "\n",
    "if (x>5):\n",
    "    print(f\" {x} is greater the 5\")"
   ]
  },
  {
   "cell_type": "code",
   "execution_count": null,
   "id": "ecdd1395",
   "metadata": {},
   "outputs": [],
   "source": [
    "x=eval(input('enter the 1st number :'))\n",
    "y=eval(input('rnter the 2nd number :'))\n",
    "\n",
    "\n",
    "if (x>y):\n",
    "    print(\"x is greater the y\")"
   ]
  },
  {
   "cell_type": "code",
   "execution_count": null,
   "id": "fb38b215",
   "metadata": {},
   "outputs": [],
   "source": [
    "x=eval(input('enter the 1st number :'))\n",
    "y=eval(input('rnter the 2nd number :'))\n",
    "\n",
    "\n",
    "if (x>y):\n",
    "    \n",
    "    print(\"x is greater the y\")\n",
    "    \n",
    "    "
   ]
  },
  {
   "cell_type": "code",
   "execution_count": null,
   "id": "35580b20",
   "metadata": {},
   "outputs": [],
   "source": [
    "x=eval(input('enter the 1st number :'))\n",
    "y=eval(input('rnter the 2nd number :'))\n",
    "\n",
    "\n",
    "if (x>y):\n",
    "    print(\"x is greater the y\")\n",
    "    print('statement execute successfilly')\n",
    "    \n",
    "print('program execute successfuly')    \n",
    "    "
   ]
  },
  {
   "cell_type": "code",
   "execution_count": 3,
   "id": "7c583f0e",
   "metadata": {},
   "outputs": [
    {
     "name": "stdout",
     "output_type": "stream",
     "text": [
      "enter the 1st number :2\n",
      "rnter the 2nd number :5\n",
      "program execute successfuly\n"
     ]
    }
   ],
   "source": [
    "x=eval(input('enter the 1st number :'))\n",
    "y=eval(input('rnter the 2nd number :'))\n",
    "\n",
    "\n",
    "if (x>y):\n",
    "    print(\"x is greater the y\")\n",
    "    print('statement execute successfilly')\n",
    "    \n",
    "print('program execute successfuly')"
   ]
  },
  {
   "cell_type": "code",
   "execution_count": null,
   "id": "7adc2dd5",
   "metadata": {},
   "outputs": [],
   "source": [
    "x=eval(input('enter the 1st number :'))\n",
    "y=eval(input('rnter the 2nd number :'))\n",
    "\n",
    "\n",
    "if (x>y):\n",
    "    print(\"x is greater the y\")\n",
    "    print('statement execute successfilly')\n",
    "    \n",
    "\n",
    "print('x is smaller the y')\n",
    "\n",
    "    \n"
   ]
  },
  {
   "cell_type": "code",
   "execution_count": null,
   "id": "4350a178",
   "metadata": {},
   "outputs": [],
   "source": [
    "x = 5  # bool\n",
    "\n",
    "if x:\n",
    "    print('statement execute from if block')\n",
    "    \n",
    "print('programm execute successfully')    "
   ]
  },
  {
   "cell_type": "code",
   "execution_count": null,
   "id": "54dd5030",
   "metadata": {},
   "outputs": [],
   "source": [
    "x = 0     # boole \n",
    "\n",
    "if x:\n",
    "    print('statement execute from if block')\n",
    "    \n",
    "print('programm execute successfully')"
   ]
  },
  {
   "cell_type": "markdown",
   "id": "430c48de",
   "metadata": {},
   "source": [
    "## if else statement"
   ]
  },
  {
   "cell_type": "code",
   "execution_count": null,
   "id": "633fca11",
   "metadata": {},
   "outputs": [],
   "source": [
    "x=eval(input('enter the 1st number :'))\n",
    "y=eval(input('rnter the 2nd number :'))\n",
    "\n",
    "\n",
    "if (x>y):\n",
    "    print(\"x is greater the y\")\n",
    "    print('statement execute from if block')\n",
    "    \n",
    "else :\n",
    "    print(f'{x} is less than {y}')\n",
    "    print('statement execute from else block')\n",
    "    \n",
    " "
   ]
  },
  {
   "cell_type": "code",
   "execution_count": null,
   "id": "e5d95661",
   "metadata": {},
   "outputs": [],
   "source": [
    "x=eval(input('enter the 1st number :'))\n",
    "y=eval(input('rnter the 2nd number :'))\n",
    "\n",
    "\n",
    "if (x>y):\n",
    "    print(\"x is greater the y\")\n",
    "    print('statement execute from if block')\n",
    "    \n",
    "else :\n",
    "    print(f'{x} is less than {y}')\n",
    "    print('statement execute from else block')"
   ]
  },
  {
   "cell_type": "code",
   "execution_count": null,
   "id": "bbfebf14",
   "metadata": {},
   "outputs": [],
   "source": [
    "str1='AI With Python'\n",
    "str2='AI with Python'\n",
    "\n",
    "if str1==str2:\n",
    "    print('Both string are same')\n",
    "else:\n",
    "    print('Both string sre not same')"
   ]
  },
  {
   "cell_type": "code",
   "execution_count": null,
   "id": "831d5361",
   "metadata": {},
   "outputs": [],
   "source": [
    "str1='AI With Python'\n",
    "str2='AI with Python'\n",
    "\n",
    "if str1==str2.title():\n",
    "    print('Both string are same')\n",
    "else:\n",
    "    print('Both string sre not same')"
   ]
  },
  {
   "cell_type": "code",
   "execution_count": null,
   "id": "5c2d980e",
   "metadata": {},
   "outputs": [],
   "source": [
    "str1='Ai With Python'\n",
    "str2='AI with Python'\n",
    "\n",
    "if str1==str2.title():\n",
    "    print('Both string are same')\n",
    "else:\n",
    "    print('Both string sre not same')"
   ]
  },
  {
   "cell_type": "code",
   "execution_count": null,
   "id": "e5d7223f",
   "metadata": {},
   "outputs": [],
   "source": [
    "str1='vikee salunkhe'\n",
    "str2='VIKEE SALUNKHE'\n",
    "\n",
    "if str1==str2.lower():\n",
    "    print('Both string are same')\n",
    "else:\n",
    "    print('Both string sre not same')"
   ]
  },
  {
   "cell_type": "code",
   "execution_count": null,
   "id": "998cd695",
   "metadata": {},
   "outputs": [],
   "source": [
    "str1='vikee salunkhe'\n",
    "str2='VIKEE SALUNKHE'\n",
    "\n",
    "if str1.upper()==str2:\n",
    "    print('Both string are same')\n",
    "else:\n",
    "    print('Both string sre not same')"
   ]
  },
  {
   "cell_type": "code",
   "execution_count": null,
   "id": "8978452a",
   "metadata": {},
   "outputs": [],
   "source": [
    "num1=100\n",
    "num2=50\n",
    "\n",
    "if (num1>num2) and (num1==num2) :\n",
    "    print('Both string are same')\n",
    "else:\n",
    "    print('statement execut from else block')"
   ]
  },
  {
   "cell_type": "code",
   "execution_count": null,
   "id": "ca885afc",
   "metadata": {},
   "outputs": [],
   "source": [
    "num1=100\n",
    "num2=50\n",
    "\n",
    "if (num1>num2) or (num1!=num2) :\n",
    "    print('Both string are same')\n",
    "else:\n",
    "    print('statement execut from else block')"
   ]
  },
  {
   "cell_type": "markdown",
   "id": "e9de1998",
   "metadata": {},
   "source": [
    "## if elif else Satement"
   ]
  },
  {
   "cell_type": "code",
   "execution_count": null,
   "id": "7e6d4b2d",
   "metadata": {},
   "outputs": [],
   "source": [
    "# check greater number\n",
    "\n",
    "num1=eval(input('enter your 1st number :'))\n",
    "num2=eval(input('enter your 2nd number :'))\n",
    "num3=eval(input('enter your 3rd number :'))\n",
    "\n",
    "if (num1>num2) and (num1>num3):\n",
    "    print('1st number is greater')\n",
    "    \n",
    "elif (num2>num1) and (num2>num3):\n",
    "    print('2nd number is greater')\n",
    "    \n",
    "else:\n",
    "    print('3rd number is greater')"
   ]
  },
  {
   "cell_type": "code",
   "execution_count": null,
   "id": "5701a1b6",
   "metadata": {},
   "outputs": [],
   "source": [
    "# ckeck correct password\n",
    "\n",
    "password=1234\n",
    "a=eval(input('enter your password : '))\n",
    "\n",
    "if a==password:\n",
    "    print('well successfuly')\n",
    "    \n",
    "else:\n",
    "    print('invalid password')"
   ]
  },
  {
   "cell_type": "code",
   "execution_count": null,
   "id": "f1d4f865",
   "metadata": {},
   "outputs": [],
   "source": [
    "num1=eval(input('enter the 1st number :'))\n",
    "num2=eval(input(\"enter the 2nd number :\"))\n",
    "operator=input('enter the operator (a=+),(b=-) :')\n",
    "\n",
    "a=num1 + num2\n",
    "b=num1-num2\n",
    "if a :\n",
    "    print(num1+num2)\n",
    "    \n",
    "elif b :\n",
    "    print(num1-num2)\n",
    "    \n",
    "else:\n",
    "    print(\"invalid\")"
   ]
  },
  {
   "cell_type": "code",
   "execution_count": null,
   "id": "fe5d0189",
   "metadata": {},
   "outputs": [],
   "source": [
    "# check the even or odd number\n",
    "\n",
    "num=int(input('enter the no :'))\n",
    "\n",
    "if (num % 2) == 0:\n",
    "    print('even number')\n",
    "\n",
    "else :\n",
    "    print('odd number')"
   ]
  },
  {
   "cell_type": "code",
   "execution_count": null,
   "id": "268bbe22",
   "metadata": {},
   "outputs": [],
   "source": [
    "# ckeck the number is less than or greater than 10\n",
    "\n",
    "num=eval(input('enter the number :'))\n",
    "\n",
    "if num > 10 :\n",
    "    print('num is greater than 10')\n",
    "    \n",
    "elif num < 10 :\n",
    "    print('num is less than 10')\n",
    "    \n",
    "else :\n",
    "    print('num=10')"
   ]
  },
  {
   "cell_type": "code",
   "execution_count": null,
   "id": "6485f5dd",
   "metadata": {},
   "outputs": [],
   "source": [
    "num=eval(input('enter the class number :'))\n",
    "\n",
    "if (num==1):\n",
    "    print('first class')\n",
    "    \n",
    "elif (num==2):\n",
    "    print('second class')\n",
    "    \n",
    "else:\n",
    "    print('invalid class')"
   ]
  },
  {
   "cell_type": "code",
   "execution_count": null,
   "id": "07ea5da1",
   "metadata": {},
   "outputs": [],
   "source": [
    "# ckeck the negative or possitive number\n",
    "\n",
    "num=eval(input('enter the number :'))\n",
    "\n",
    "if (num < 0):\n",
    "    print('negative number')\n",
    "    \n",
    "elif (num>0):\n",
    "    print('possitive number')\n",
    "    \n",
    "else:\n",
    "    print('neutral number')"
   ]
  },
  {
   "cell_type": "code",
   "execution_count": null,
   "id": "61ca7000",
   "metadata": {},
   "outputs": [],
   "source": [
    "# find the profit or loss \n",
    "\n",
    "selling_price=float(input('enter the selling price: '))\n",
    "cost_price=float(input('enter the cost price: '))\n",
    "\n",
    "if selling_price > cost_price :\n",
    "    print('profit',selling_price - cost_price)\n",
    "    \n",
    "elif selling_price < cost_price :\n",
    "    print('loss',cost_price - selling_price)\n",
    "    \n",
    "else:\n",
    "    print('no profit no loss')"
   ]
  },
  {
   "cell_type": "code",
   "execution_count": null,
   "id": "1961e815",
   "metadata": {},
   "outputs": [],
   "source": [
    "# check day no. (1-7) and print the corresponding day of week\n",
    "\n",
    "num = int(input(\"Enter your number :\"))\n",
    "\n",
    "if num==1:\n",
    "    print(\"Monday\")\n",
    "elif num==2:\n",
    "    print(\"Tuesday\")\n",
    "elif num==3:\n",
    "    print(\"Wensday\")\n",
    "elif num==4:\n",
    "    print(\"Thursday\")\n",
    "elif num==5:\n",
    "    print(\"Fraiday\")\n",
    "elif num==6:\n",
    "    print(\"Saturday\")\n",
    "elif num==7:\n",
    "    print(\"Sunday\")\n",
    "else:\n",
    "    print(\"invalid number\")"
   ]
  },
  {
   "cell_type": "code",
   "execution_count": null,
   "id": "c24b8d48",
   "metadata": {},
   "outputs": [],
   "source": [
    "# calculator\n",
    "\n",
    "first=eval(input('enter your 1st number :'))\n",
    "operator=input('enter the operator +,-,*,%  :')\n",
    "second=eval(input('enter your ist number :'))\n",
    "\n",
    "if operator ==\"+\":\n",
    "    print(first + second)\n",
    "    \n",
    "elif operator ==\"-\":\n",
    "    print(first - second)\n",
    "    \n",
    "elif operator =='*':\n",
    "    print(first * second)\n",
    "    \n",
    "elif operator =='%':\n",
    "    print(first % second)\n",
    "\n",
    "    \n",
    "else :\n",
    "    print('invalid')\n",
    "    \n",
    "    \n",
    "    "
   ]
  },
  {
   "cell_type": "code",
   "execution_count": null,
   "id": "cf3f0003",
   "metadata": {},
   "outputs": [],
   "source": [
    "# ckeck marks grade \n",
    "\n",
    "marks=eval(input('enter your marks :'))\n",
    "                 \n",
    "if (marks>70):\n",
    "    print('grade A')\n",
    "    \n",
    "elif (marks>=60 ) and (marks<=70):\n",
    "    print('grade B')\n",
    "    \n",
    "elif (marks>=50) and (marks<=60):\n",
    "    print('grade C')\n",
    "    \n",
    "elif (marks>=40) and (marks<=50):\n",
    "      print('grade D')\n",
    "        \n",
    "elif (marks>=30) and (marks<=40):\n",
    "      print('grade E')\n",
    "        \n",
    "else:\n",
    "    print('fail')\n",
    "    "
   ]
  },
  {
   "cell_type": "markdown",
   "id": "3e0628a2",
   "metadata": {},
   "source": [
    "## Nested if else Condition"
   ]
  },
  {
   "cell_type": "code",
   "execution_count": null,
   "id": "a249d04d",
   "metadata": {},
   "outputs": [],
   "source": [
    "# check addmision procces (marks)\n",
    " #frist sector medical..... above 150 print(welcome to medical colleges)\n",
    "    #MBBS   above 190  print(welcome to MBBS)\n",
    "    #BHMS   above 180\n",
    "    #BDS    \n",
    " #second sector enginerring.....\n",
    "    #RA  above 140\n",
    "    #CS  above 130\n",
    "    #IT  above 120\n",
    "    #CIVIL\n",
    "\n",
    "marks = eval(input('enter your marks :'))\n",
    "\n",
    "\n",
    "if marks > 150:\n",
    "    print('welcome to medical adimision process')\n",
    "    \n",
    "    if marks > 190:\n",
    "        print('welcome to MBBS')\n",
    "        \n",
    "    elif marks >180:\n",
    "        print('welcome to BHMS')\n",
    "        \n",
    "    else :\n",
    "        print('welcome to  BDS')\n",
    "        \n",
    "else:\n",
    "    print('welcome to engineering adimision process')\n",
    "    \n",
    "    if marks > 140:\n",
    "        print('Admitted to Robotics branch')\n",
    "        \n",
    "    elif marks > 130:\n",
    "        print('Admitted to computer branch')\n",
    "        \n",
    "    elif marks > 120:\n",
    "        print('Admitted to mechanical branch')\n",
    "        \n",
    "    else:\n",
    "        print('Admitted to civil branch')\n",
    "        \n",
    "\n",
    "            \n",
    "        "
   ]
  },
  {
   "cell_type": "code",
   "execution_count": null,
   "id": "12a0716d",
   "metadata": {},
   "outputs": [],
   "source": [
    "# ckeck triangle type (equilateral triangle, isoscaler triangle, right angle triangle, scalen triangle):\n",
    "\n",
    "a = eval(input('enter 1st triangle size :'))\n",
    "b = eval(input('enter 2nd triangle size :'))\n",
    "c = eval(input('enter 3rd triangle size :'))\n",
    "\n",
    "if a==b==c:\n",
    "    print('equilateral triangle')\n",
    "    \n",
    "elif (a==b) or (a==c)  or (b==c):\n",
    "    print('isoscaler triangle')\n",
    "    \n",
    "elif (a**2==c**2 + b**2) or (b**2==c**2 + a**2) or (c**2==a**2 + b**2):\n",
    "    print('right angle triangle')\n",
    "    \n",
    "else:\n",
    "    print('scalen triangle')"
   ]
  },
  {
   "cell_type": "code",
   "execution_count": null,
   "id": "6cfaa874",
   "metadata": {},
   "outputs": [],
   "source": []
  }
 ],
 "metadata": {
  "kernelspec": {
   "display_name": "Python 3 (ipykernel)",
   "language": "python",
   "name": "python3"
  },
  "language_info": {
   "codemirror_mode": {
    "name": "ipython",
    "version": 3
   },
   "file_extension": ".py",
   "mimetype": "text/x-python",
   "name": "python",
   "nbconvert_exporter": "python",
   "pygments_lexer": "ipython3",
   "version": "3.9.7"
  }
 },
 "nbformat": 4,
 "nbformat_minor": 5
}
