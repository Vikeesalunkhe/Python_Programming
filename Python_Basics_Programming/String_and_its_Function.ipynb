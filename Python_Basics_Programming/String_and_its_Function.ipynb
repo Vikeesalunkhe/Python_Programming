{
 "cells": [
  {
   "attachments": {},
   "cell_type": "markdown",
   "id": "064ee952",
   "metadata": {},
   "source": [
    "# String"
   ]
  },
  {
   "cell_type": "raw",
   "id": "1ba0386f",
   "metadata": {},
   "source": [
    " -its collection of character, enclosed inside the single and double quates and also with single or 3 double quates\n",
    " - string is inmutable data type\n",
    " - string support is indexing concepts\n",
    " - string is support slicing concepts"
   ]
  },
  {
   "cell_type": "code",
   "execution_count": 1,
   "id": "3c072e2c",
   "metadata": {},
   "outputs": [],
   "source": [
    "str1 =  \"kjaefhie\""
   ]
  },
  {
   "cell_type": "code",
   "execution_count": 2,
   "id": "499d5c9e",
   "metadata": {},
   "outputs": [
    {
     "data": {
      "text/plain": [
       "'kjaefhie'"
      ]
     },
     "execution_count": 2,
     "metadata": {},
     "output_type": "execute_result"
    }
   ],
   "source": [
    "str1"
   ]
  },
  {
   "cell_type": "code",
   "execution_count": 3,
   "id": "1676bea7",
   "metadata": {},
   "outputs": [
    {
     "ename": "SyntaxError",
     "evalue": "invalid syntax (Temp/ipykernel_11708/2876673288.py, line 1)",
     "output_type": "error",
     "traceback": [
      "\u001b[1;36m  File \u001b[1;32m\"C:\\Users\\VIKEED~1\\AppData\\Local\\Temp/ipykernel_11708/2876673288.py\"\u001b[1;36m, line \u001b[1;32m1\u001b[0m\n\u001b[1;33m    str2= AI traning center\u001b[0m\n\u001b[1;37m             ^\u001b[0m\n\u001b[1;31mSyntaxError\u001b[0m\u001b[1;31m:\u001b[0m invalid syntax\n"
     ]
    }
   ],
   "source": [
    "str2= AI traning center\n",
    "      zeal college \n",
    "      pune center\"\n",
    "      "
   ]
  },
  {
   "cell_type": "code",
   "execution_count": 4,
   "id": "17cdc644",
   "metadata": {},
   "outputs": [
    {
     "ename": "SyntaxError",
     "evalue": "EOL while scanning string literal (Temp/ipykernel_11708/3830604386.py, line 1)",
     "output_type": "error",
     "traceback": [
      "\u001b[1;36m  File \u001b[1;32m\"C:\\Users\\VIKEED~1\\AppData\\Local\\Temp/ipykernel_11708/3830604386.py\"\u001b[1;36m, line \u001b[1;32m1\u001b[0m\n\u001b[1;33m    str2= \"AI traning center\u001b[0m\n\u001b[1;37m                            ^\u001b[0m\n\u001b[1;31mSyntaxError\u001b[0m\u001b[1;31m:\u001b[0m EOL while scanning string literal\n"
     ]
    }
   ],
   "source": [
    "str2= \"AI traning center\n",
    "      zeal college \n",
    "      pune center\"\n",
    "        "
   ]
  },
  {
   "cell_type": "code",
   "execution_count": 5,
   "id": "62da257c",
   "metadata": {},
   "outputs": [],
   "source": [
    "str2= '''AI traning center\n",
    "      zeal college \n",
    "      pune center'''"
   ]
  },
  {
   "cell_type": "code",
   "execution_count": 6,
   "id": "ab282142",
   "metadata": {},
   "outputs": [
    {
     "data": {
      "text/plain": [
       "'AI traning center\\n      zeal college \\n      pune center'"
      ]
     },
     "execution_count": 6,
     "metadata": {},
     "output_type": "execute_result"
    }
   ],
   "source": [
    "str2"
   ]
  },
  {
   "cell_type": "code",
   "execution_count": 7,
   "id": "2dd02ca1",
   "metadata": {},
   "outputs": [
    {
     "name": "stdout",
     "output_type": "stream",
     "text": [
      "AI traning center\n",
      "      zeal college \n",
      "      pune center\n"
     ]
    }
   ],
   "source": [
    "print(str2)"
   ]
  },
  {
   "cell_type": "code",
   "execution_count": 8,
   "id": "47eaed40",
   "metadata": {},
   "outputs": [
    {
     "data": {
      "text/plain": [
       "str"
      ]
     },
     "execution_count": 8,
     "metadata": {},
     "output_type": "execute_result"
    }
   ],
   "source": [
    "type(str2)"
   ]
  },
  {
   "attachments": {},
   "cell_type": "markdown",
   "id": "a8111885",
   "metadata": {},
   "source": [
    "# Escape characters in string"
   ]
  },
  {
   "attachments": {},
   "cell_type": "markdown",
   "id": "3c127165",
   "metadata": {},
   "source": [
    "- \\n ----> new line\n",
    "- \\t ----> tab , horizontal space\n",
    "- \\r ----> return carriage\n",
    "- \\\\ ---> back slash\n",
    "- \\' ---> single code    (\\'__\\')\n",
    "- \\\" ---> double code   (\\\"___\\\")"
   ]
  },
  {
   "cell_type": "code",
   "execution_count": 9,
   "id": "cdf8bfd9",
   "metadata": {},
   "outputs": [],
   "source": [
    "str1='AI with \\n python'"
   ]
  },
  {
   "cell_type": "code",
   "execution_count": 10,
   "id": "bed0e20b",
   "metadata": {},
   "outputs": [
    {
     "data": {
      "text/plain": [
       "'AI with \\n python'"
      ]
     },
     "execution_count": 10,
     "metadata": {},
     "output_type": "execute_result"
    }
   ],
   "source": [
    "str1"
   ]
  },
  {
   "cell_type": "code",
   "execution_count": 11,
   "id": "76c51550",
   "metadata": {},
   "outputs": [
    {
     "name": "stdout",
     "output_type": "stream",
     "text": [
      "AI with \n",
      " python\n"
     ]
    }
   ],
   "source": [
    "print(str1)"
   ]
  },
  {
   "cell_type": "code",
   "execution_count": 12,
   "id": "130fe5f8",
   "metadata": {},
   "outputs": [],
   "source": [
    "str2=\"zeal \\ncollege \\nof \\nengineering \\npune\""
   ]
  },
  {
   "cell_type": "code",
   "execution_count": 13,
   "id": "9a04267e",
   "metadata": {},
   "outputs": [
    {
     "name": "stdout",
     "output_type": "stream",
     "text": [
      "zeal \n",
      "college \n",
      "of \n",
      "engineering \n",
      "pune\n"
     ]
    }
   ],
   "source": [
    "print(str2)"
   ]
  },
  {
   "cell_type": "code",
   "execution_count": 1,
   "id": "5e16eb8a",
   "metadata": {},
   "outputs": [],
   "source": [
    "str3=\"zeal college is\\tbest college in pune univrsity\""
   ]
  },
  {
   "cell_type": "code",
   "execution_count": 2,
   "id": "601d610e",
   "metadata": {},
   "outputs": [
    {
     "name": "stdout",
     "output_type": "stream",
     "text": [
      "zeal college is\tbest college in pune univrsity\n"
     ]
    }
   ],
   "source": [
    "print(str3)"
   ]
  },
  {
   "cell_type": "code",
   "execution_count": 16,
   "id": "a96ef3dc",
   "metadata": {},
   "outputs": [],
   "source": [
    "str4='A\\tB\\tC\\tD'"
   ]
  },
  {
   "cell_type": "code",
   "execution_count": 17,
   "id": "e4669a81",
   "metadata": {},
   "outputs": [
    {
     "name": "stdout",
     "output_type": "stream",
     "text": [
      "A\tB\tC\tD\n"
     ]
    }
   ],
   "source": [
    "print(str4)"
   ]
  },
  {
   "cell_type": "code",
   "execution_count": 18,
   "id": "c3de9fbf",
   "metadata": {},
   "outputs": [],
   "source": [
    "str5=\"name,\\tdate,\\tclass,\\tyear\""
   ]
  },
  {
   "cell_type": "code",
   "execution_count": 19,
   "id": "5c03178e",
   "metadata": {},
   "outputs": [
    {
     "name": "stdout",
     "output_type": "stream",
     "text": [
      "name,\tdate,\tclass,\tyear\n"
     ]
    }
   ],
   "source": [
    "print(str5)"
   ]
  },
  {
   "cell_type": "code",
   "execution_count": 20,
   "id": "c2fbb725",
   "metadata": {},
   "outputs": [],
   "source": [
    "str6= 'AI with python \\rtranining'"
   ]
  },
  {
   "cell_type": "code",
   "execution_count": 21,
   "id": "5c245bb7",
   "metadata": {},
   "outputs": [
    {
     "name": "stdout",
     "output_type": "stream",
     "text": [
      "AI with python \r\n",
      "tranining\n"
     ]
    }
   ],
   "source": [
    "print(str6)"
   ]
  },
  {
   "cell_type": "code",
   "execution_count": 22,
   "id": "45a2b6f9",
   "metadata": {},
   "outputs": [],
   "source": [
    "str7='\\rengineering \\rof \\rcollege \\rzeal'"
   ]
  },
  {
   "cell_type": "code",
   "execution_count": 23,
   "id": "3b2d1209",
   "metadata": {},
   "outputs": [
    {
     "name": "stdout",
     "output_type": "stream",
     "text": [
      "\r\n",
      "engineering \r\n",
      "of \r\n",
      "college \r\n",
      "zeal\n"
     ]
    }
   ],
   "source": [
    "print(str7)"
   ]
  },
  {
   "cell_type": "code",
   "execution_count": 24,
   "id": "6088f86d",
   "metadata": {},
   "outputs": [],
   "source": [
    "str8='D:\\CDPpython\\day1'"
   ]
  },
  {
   "cell_type": "code",
   "execution_count": 25,
   "id": "eca7d0bb",
   "metadata": {},
   "outputs": [
    {
     "name": "stdout",
     "output_type": "stream",
     "text": [
      "D:\\CDPpython\\day1\n"
     ]
    }
   ],
   "source": [
    "print(str8)"
   ]
  },
  {
   "cell_type": "code",
   "execution_count": 26,
   "id": "2011aee7",
   "metadata": {},
   "outputs": [],
   "source": [
    "str8='D:\\\\cdppython\\\\day1\\\\datatype'"
   ]
  },
  {
   "cell_type": "code",
   "execution_count": 27,
   "id": "d66238cc",
   "metadata": {},
   "outputs": [
    {
     "name": "stdout",
     "output_type": "stream",
     "text": [
      "D:\\cdppython\\day1\\datatype\n"
     ]
    }
   ],
   "source": [
    "print(str8)"
   ]
  },
  {
   "cell_type": "code",
   "execution_count": 28,
   "id": "0b56cd8c",
   "metadata": {},
   "outputs": [],
   "source": [
    "str9='we are learning AI with python '"
   ]
  },
  {
   "cell_type": "code",
   "execution_count": 29,
   "id": "f464c14f",
   "metadata": {},
   "outputs": [
    {
     "name": "stdout",
     "output_type": "stream",
     "text": [
      "we are learning AI with python \n"
     ]
    }
   ],
   "source": [
    "print(str9)"
   ]
  },
  {
   "cell_type": "code",
   "execution_count": 30,
   "id": "83a023c7",
   "metadata": {},
   "outputs": [],
   "source": [
    "str9='we are learning \\'AI\\' with python '"
   ]
  },
  {
   "cell_type": "code",
   "execution_count": 31,
   "id": "5d8f1398",
   "metadata": {},
   "outputs": [
    {
     "name": "stdout",
     "output_type": "stream",
     "text": [
      "we are learning 'AI' with python \n"
     ]
    }
   ],
   "source": [
    "print(str9)"
   ]
  },
  {
   "cell_type": "code",
   "execution_count": 32,
   "id": "ecefd692",
   "metadata": {},
   "outputs": [],
   "source": [
    "str9=\"we are learning AI with \\\"python\\\" \""
   ]
  },
  {
   "cell_type": "code",
   "execution_count": 33,
   "id": "fb333ba5",
   "metadata": {},
   "outputs": [
    {
     "name": "stdout",
     "output_type": "stream",
     "text": [
      "we are learning AI with \"python\" \n"
     ]
    }
   ],
   "source": [
    "print(str9)"
   ]
  },
  {
   "cell_type": "code",
   "execution_count": 34,
   "id": "51f46a15",
   "metadata": {},
   "outputs": [],
   "source": [
    "str9='we are learning \"AI\" with python '"
   ]
  },
  {
   "cell_type": "code",
   "execution_count": 35,
   "id": "44ad5553",
   "metadata": {},
   "outputs": [
    {
     "name": "stdout",
     "output_type": "stream",
     "text": [
      "we are learning \"AI\" with python \n"
     ]
    }
   ],
   "source": [
    "print(str9)"
   ]
  },
  {
   "cell_type": "code",
   "execution_count": 36,
   "id": "c6ea8051",
   "metadata": {},
   "outputs": [],
   "source": [
    "str9=\"we are learning 'AI' with python\""
   ]
  },
  {
   "cell_type": "code",
   "execution_count": 37,
   "id": "c2510e6e",
   "metadata": {},
   "outputs": [
    {
     "name": "stdout",
     "output_type": "stream",
     "text": [
      "we are learning 'AI' with python\n"
     ]
    }
   ],
   "source": [
    "print(str9)"
   ]
  },
  {
   "attachments": {},
   "cell_type": "markdown",
   "id": "b1ff6804",
   "metadata": {},
   "source": [
    "# String Indexing "
   ]
  },
  {
   "attachments": {},
   "cell_type": "markdown",
   "id": "4be4b48a",
   "metadata": {},
   "source": [
    "- indexing start from 0 and ends at the length(string)-1    (string length-1)\n",
    "- we can accese the individual elements from the string using index \n",
    "\n",
    "        "
   ]
  },
  {
   "cell_type": "code",
   "execution_count": 3,
   "id": "968a608d",
   "metadata": {},
   "outputs": [],
   "source": [
    "str1='PYTHON TRAINING'"
   ]
  },
  {
   "cell_type": "code",
   "execution_count": 4,
   "id": "7a476afd",
   "metadata": {},
   "outputs": [
    {
     "data": {
      "text/plain": [
       "15"
      ]
     },
     "execution_count": 4,
     "metadata": {},
     "output_type": "execute_result"
    }
   ],
   "source": [
    "len(str1)"
   ]
  },
  {
   "cell_type": "code",
   "execution_count": 40,
   "id": "4500803f",
   "metadata": {},
   "outputs": [
    {
     "data": {
      "text/plain": [
       "'P'"
      ]
     },
     "execution_count": 40,
     "metadata": {},
     "output_type": "execute_result"
    }
   ],
   "source": [
    "str1[0]"
   ]
  },
  {
   "cell_type": "code",
   "execution_count": 41,
   "id": "52d5f55f",
   "metadata": {},
   "outputs": [
    {
     "data": {
      "text/plain": [
       "'Y'"
      ]
     },
     "execution_count": 41,
     "metadata": {},
     "output_type": "execute_result"
    }
   ],
   "source": [
    "str1[1]\n"
   ]
  },
  {
   "cell_type": "code",
   "execution_count": 42,
   "id": "b0a0f191",
   "metadata": {},
   "outputs": [
    {
     "data": {
      "text/plain": [
       "'G'"
      ]
     },
     "execution_count": 42,
     "metadata": {},
     "output_type": "execute_result"
    }
   ],
   "source": [
    "str1[-1]"
   ]
  },
  {
   "cell_type": "code",
   "execution_count": 43,
   "id": "2934f4d0",
   "metadata": {},
   "outputs": [
    {
     "data": {
      "text/plain": [
       "'P'"
      ]
     },
     "execution_count": 43,
     "metadata": {},
     "output_type": "execute_result"
    }
   ],
   "source": [
    "str1[0]"
   ]
  },
  {
   "cell_type": "code",
   "execution_count": 44,
   "id": "4e9221ed",
   "metadata": {},
   "outputs": [
    {
     "data": {
      "text/plain": [
       "'P'"
      ]
     },
     "execution_count": 44,
     "metadata": {},
     "output_type": "execute_result"
    }
   ],
   "source": [
    "str1[-0]"
   ]
  },
  {
   "cell_type": "code",
   "execution_count": 45,
   "id": "6a9385cf",
   "metadata": {},
   "outputs": [
    {
     "data": {
      "text/plain": [
       "'I'"
      ]
     },
     "execution_count": 45,
     "metadata": {},
     "output_type": "execute_result"
    }
   ],
   "source": [
    "str1[-5]"
   ]
  },
  {
   "cell_type": "code",
   "execution_count": 46,
   "id": "ea9444c9",
   "metadata": {},
   "outputs": [
    {
     "data": {
      "text/plain": [
       "'I'"
      ]
     },
     "execution_count": 46,
     "metadata": {},
     "output_type": "execute_result"
    }
   ],
   "source": [
    "str1[10]"
   ]
  },
  {
   "cell_type": "code",
   "execution_count": 47,
   "id": "0756d5ab",
   "metadata": {},
   "outputs": [
    {
     "data": {
      "text/plain": [
       "'A'"
      ]
     },
     "execution_count": 47,
     "metadata": {},
     "output_type": "execute_result"
    }
   ],
   "source": [
    "str1[-6]"
   ]
  },
  {
   "attachments": {},
   "cell_type": "markdown",
   "id": "c63dd66d",
   "metadata": {},
   "source": [
    "# Slicing in string"
   ]
  },
  {
   "cell_type": "raw",
   "id": "ca3f547e",
   "metadata": {},
   "source": [
    "- slicing  is used for accesing the part of string\n",
    "  syntax:\n",
    "        string_name[start_index:end_index()+1]\n",
    "        string_name[start_index():end_index(+1):step_size]"
   ]
  },
  {
   "cell_type": "code",
   "execution_count": 48,
   "id": "08d567f1",
   "metadata": {},
   "outputs": [],
   "source": [
    "str1='AI with python'"
   ]
  },
  {
   "cell_type": "code",
   "execution_count": 49,
   "id": "b491bb96",
   "metadata": {},
   "outputs": [
    {
     "data": {
      "text/plain": [
       "14"
      ]
     },
     "execution_count": 49,
     "metadata": {},
     "output_type": "execute_result"
    }
   ],
   "source": [
    "len(str1)"
   ]
  },
  {
   "cell_type": "code",
   "execution_count": 50,
   "id": "4e7a3ad3",
   "metadata": {},
   "outputs": [
    {
     "data": {
      "text/plain": [
       "'AI with python'"
      ]
     },
     "execution_count": 50,
     "metadata": {},
     "output_type": "execute_result"
    }
   ],
   "source": [
    "str1[0:14]"
   ]
  },
  {
   "cell_type": "code",
   "execution_count": 51,
   "id": "626fe382",
   "metadata": {},
   "outputs": [
    {
     "data": {
      "text/plain": [
       "'wit'"
      ]
     },
     "execution_count": 51,
     "metadata": {},
     "output_type": "execute_result"
    }
   ],
   "source": [
    "str1[3:6]"
   ]
  },
  {
   "cell_type": "code",
   "execution_count": 52,
   "id": "c915441c",
   "metadata": {},
   "outputs": [
    {
     "data": {
      "text/plain": [
       "''"
      ]
     },
     "execution_count": 52,
     "metadata": {},
     "output_type": "execute_result"
    }
   ],
   "source": [
    "str1[-1:-6]"
   ]
  },
  {
   "cell_type": "code",
   "execution_count": 53,
   "id": "914e93d8",
   "metadata": {},
   "outputs": [
    {
     "data": {
      "text/plain": [
       "'python'"
      ]
     },
     "execution_count": 53,
     "metadata": {},
     "output_type": "execute_result"
    }
   ],
   "source": [
    "str1[-6:]"
   ]
  },
  {
   "cell_type": "code",
   "execution_count": 54,
   "id": "49e35e4f",
   "metadata": {},
   "outputs": [],
   "source": [
    "str2='AI with python'"
   ]
  },
  {
   "cell_type": "code",
   "execution_count": 55,
   "id": "dcef9fdc",
   "metadata": {},
   "outputs": [
    {
     "data": {
      "text/plain": [
       "'python'"
      ]
     },
     "execution_count": 55,
     "metadata": {},
     "output_type": "execute_result"
    }
   ],
   "source": [
    "str2[8:14]"
   ]
  },
  {
   "cell_type": "code",
   "execution_count": 56,
   "id": "e584472f",
   "metadata": {},
   "outputs": [
    {
     "data": {
      "text/plain": [
       "'pytho'"
      ]
     },
     "execution_count": 56,
     "metadata": {},
     "output_type": "execute_result"
    }
   ],
   "source": [
    "str2[-6:-1]"
   ]
  },
  {
   "cell_type": "code",
   "execution_count": 57,
   "id": "68a749aa",
   "metadata": {},
   "outputs": [
    {
     "data": {
      "text/plain": [
       "'python'"
      ]
     },
     "execution_count": 57,
     "metadata": {},
     "output_type": "execute_result"
    }
   ],
   "source": [
    "str2[-6:]"
   ]
  },
  {
   "cell_type": "code",
   "execution_count": 58,
   "id": "bb1e7ee6",
   "metadata": {},
   "outputs": [],
   "source": [
    "# step size"
   ]
  },
  {
   "cell_type": "code",
   "execution_count": 59,
   "id": "5a9af62f",
   "metadata": {},
   "outputs": [],
   "source": [
    "str3='AI with python'"
   ]
  },
  {
   "cell_type": "code",
   "execution_count": 60,
   "id": "de9ca2e1",
   "metadata": {},
   "outputs": [
    {
     "data": {
      "text/plain": [
       "'A ihpto'"
      ]
     },
     "execution_count": 60,
     "metadata": {},
     "output_type": "execute_result"
    }
   ],
   "source": [
    "str3[::2]"
   ]
  },
  {
   "cell_type": "code",
   "execution_count": 61,
   "id": "bd7f492f",
   "metadata": {},
   "outputs": [
    {
     "data": {
      "text/plain": [
       "'AI with python'"
      ]
     },
     "execution_count": 61,
     "metadata": {},
     "output_type": "execute_result"
    }
   ],
   "source": [
    "str3[::1]"
   ]
  },
  {
   "cell_type": "code",
   "execution_count": 62,
   "id": "9ff9ffa3",
   "metadata": {},
   "outputs": [
    {
     "data": {
      "text/plain": [
       "'nohtyp htiw IA'"
      ]
     },
     "execution_count": 62,
     "metadata": {},
     "output_type": "execute_result"
    }
   ],
   "source": [
    "str3[::-1]"
   ]
  },
  {
   "cell_type": "code",
   "execution_count": 63,
   "id": "77a3e23d",
   "metadata": {},
   "outputs": [
    {
     "data": {
      "text/plain": [
       "'python'"
      ]
     },
     "execution_count": 63,
     "metadata": {},
     "output_type": "execute_result"
    }
   ],
   "source": [
    "str3[8:14]"
   ]
  },
  {
   "cell_type": "code",
   "execution_count": 64,
   "id": "752a9dfb",
   "metadata": {},
   "outputs": [
    {
     "data": {
      "text/plain": [
       "'python'"
      ]
     },
     "execution_count": 64,
     "metadata": {},
     "output_type": "execute_result"
    }
   ],
   "source": [
    "str3[-6:]"
   ]
  },
  {
   "cell_type": "code",
   "execution_count": 65,
   "id": "7926c789",
   "metadata": {},
   "outputs": [
    {
     "data": {
      "text/plain": [
       "'nohtyp'"
      ]
     },
     "execution_count": 65,
     "metadata": {},
     "output_type": "execute_result"
    }
   ],
   "source": [
    "str3[14:7:-1]   #revers python"
   ]
  },
  {
   "cell_type": "code",
   "execution_count": 66,
   "id": "ad9c50e8",
   "metadata": {},
   "outputs": [
    {
     "data": {
      "text/plain": [
       "'nohtyp'"
      ]
     },
     "execution_count": 66,
     "metadata": {},
     "output_type": "execute_result"
    }
   ],
   "source": [
    "str3[-6:][::-1]"
   ]
  },
  {
   "cell_type": "code",
   "execution_count": 67,
   "id": "48d5f712",
   "metadata": {},
   "outputs": [
    {
     "data": {
      "text/plain": [
       "' htiw'"
      ]
     },
     "execution_count": 67,
     "metadata": {},
     "output_type": "execute_result"
    }
   ],
   "source": [
    "str3[7:2:-1]"
   ]
  },
  {
   "cell_type": "code",
   "execution_count": 68,
   "id": "777e65eb",
   "metadata": {},
   "outputs": [
    {
     "data": {
      "text/plain": [
       "'AI with python'"
      ]
     },
     "execution_count": 68,
     "metadata": {},
     "output_type": "execute_result"
    }
   ],
   "source": [
    "str3"
   ]
  },
  {
   "cell_type": "code",
   "execution_count": 69,
   "id": "50091d1d",
   "metadata": {},
   "outputs": [
    {
     "data": {
      "text/plain": [
       "'nohtyp'"
      ]
     },
     "execution_count": 69,
     "metadata": {},
     "output_type": "execute_result"
    }
   ],
   "source": [
    "str3[:7:-1]"
   ]
  },
  {
   "cell_type": "code",
   "execution_count": 70,
   "id": "19a052cc",
   "metadata": {},
   "outputs": [
    {
     "data": {
      "text/plain": [
       "'AI with'"
      ]
     },
     "execution_count": 70,
     "metadata": {},
     "output_type": "execute_result"
    }
   ],
   "source": [
    "str3[:7]"
   ]
  },
  {
   "cell_type": "code",
   "execution_count": 71,
   "id": "16259b2f",
   "metadata": {},
   "outputs": [
    {
     "data": {
      "text/plain": [
       "'ot'"
      ]
     },
     "execution_count": 71,
     "metadata": {},
     "output_type": "execute_result"
    }
   ],
   "source": [
    "str3[-2:-5:-2]"
   ]
  },
  {
   "cell_type": "code",
   "execution_count": 72,
   "id": "089e6f31",
   "metadata": {},
   "outputs": [
    {
     "data": {
      "text/plain": [
       "'AI with python'"
      ]
     },
     "execution_count": 72,
     "metadata": {},
     "output_type": "execute_result"
    }
   ],
   "source": [
    "str3"
   ]
  },
  {
   "attachments": {},
   "cell_type": "markdown",
   "id": "35f848f5",
   "metadata": {},
   "source": [
    "# String function"
   ]
  },
  {
   "attachments": {},
   "cell_type": "markdown",
   "id": "cbc3faba",
   "metadata": {},
   "source": [
    "## Capitalize()\n",
    "\n",
    "\n",
    "- it convert first characters in uppercase,remaning all will be in lowercase \n",
    "- it does not change the original string\n",
    "\n",
    "-       syntax :\n",
    "              string_name.capitalize()"
   ]
  },
  {
   "cell_type": "code",
   "execution_count": 73,
   "id": "71d2f5a5",
   "metadata": {},
   "outputs": [],
   "source": [
    "str1='ZEAL Institut'"
   ]
  },
  {
   "cell_type": "code",
   "execution_count": 74,
   "id": "2db37403",
   "metadata": {},
   "outputs": [
    {
     "data": {
      "text/plain": [
       "'Zeal institut'"
      ]
     },
     "execution_count": 74,
     "metadata": {},
     "output_type": "execute_result"
    }
   ],
   "source": [
    "str1.capitalize()"
   ]
  },
  {
   "cell_type": "code",
   "execution_count": 75,
   "id": "c340eaa1",
   "metadata": {},
   "outputs": [],
   "source": [
    "str2=\"zeal COLLEGE is BEST college\""
   ]
  },
  {
   "cell_type": "code",
   "execution_count": 76,
   "id": "61684801",
   "metadata": {},
   "outputs": [
    {
     "data": {
      "text/plain": [
       "'Zeal college is best college'"
      ]
     },
     "execution_count": 76,
     "metadata": {},
     "output_type": "execute_result"
    }
   ],
   "source": [
    "str2.capitalize()"
   ]
  },
  {
   "attachments": {},
   "cell_type": "markdown",
   "id": "7bca0e09",
   "metadata": {},
   "source": [
    "## title\n",
    "\n",
    "- it will capitalize first characters of every word in string and remaning will be in lowercase \n",
    "\n",
    "      syntax:  \n",
    "            \n",
    "            string_name.title()"
   ]
  },
  {
   "cell_type": "code",
   "execution_count": 77,
   "id": "c858a27b",
   "metadata": {},
   "outputs": [
    {
     "data": {
      "text/plain": [
       "'zeal COLLEGE is BEST college'"
      ]
     },
     "execution_count": 77,
     "metadata": {},
     "output_type": "execute_result"
    }
   ],
   "source": [
    "str2"
   ]
  },
  {
   "cell_type": "code",
   "execution_count": 78,
   "id": "38b53607",
   "metadata": {},
   "outputs": [
    {
     "data": {
      "text/plain": [
       "'Zeal College Is Best College'"
      ]
     },
     "execution_count": 78,
     "metadata": {},
     "output_type": "execute_result"
    }
   ],
   "source": [
    "str2.title()"
   ]
  },
  {
   "attachments": {},
   "cell_type": "markdown",
   "id": "54a36bee",
   "metadata": {},
   "source": [
    "## upper ()\n",
    "\n",
    "- it well convert all in uppercase\n",
    "\n",
    "\n",
    " syntax:\n",
    "        \n",
    "        string_name.upper()"
   ]
  },
  {
   "cell_type": "code",
   "execution_count": 79,
   "id": "eca9f8df",
   "metadata": {},
   "outputs": [
    {
     "data": {
      "text/plain": [
       "'zeal COLLEGE is BEST college'"
      ]
     },
     "execution_count": 79,
     "metadata": {},
     "output_type": "execute_result"
    }
   ],
   "source": [
    "str2"
   ]
  },
  {
   "cell_type": "code",
   "execution_count": 80,
   "id": "8a7f06f8",
   "metadata": {},
   "outputs": [
    {
     "data": {
      "text/plain": [
       "'ZEAL COLLEGE IS BEST COLLEGE'"
      ]
     },
     "execution_count": 80,
     "metadata": {},
     "output_type": "execute_result"
    }
   ],
   "source": [
    "str2.upper()"
   ]
  },
  {
   "attachments": {},
   "cell_type": "markdown",
   "id": "1537aa4f",
   "metadata": {},
   "source": [
    "# lower()\n",
    "\n",
    "-  all characters convert in lowercase\n",
    "\n",
    " synntax:\n",
    " \n",
    "        string_name.lower()"
   ]
  },
  {
   "cell_type": "code",
   "execution_count": 81,
   "id": "e5a500ee",
   "metadata": {},
   "outputs": [
    {
     "data": {
      "text/plain": [
       "'zeal COLLEGE is BEST college'"
      ]
     },
     "execution_count": 81,
     "metadata": {},
     "output_type": "execute_result"
    }
   ],
   "source": [
    "str2"
   ]
  },
  {
   "cell_type": "code",
   "execution_count": 82,
   "id": "4f4927e4",
   "metadata": {},
   "outputs": [
    {
     "data": {
      "text/plain": [
       "'zeal college is best college'"
      ]
     },
     "execution_count": 82,
     "metadata": {},
     "output_type": "execute_result"
    }
   ],
   "source": [
    "str2.lower()"
   ]
  },
  {
   "attachments": {},
   "cell_type": "markdown",
   "id": "15fb1567",
   "metadata": {},
   "source": [
    "## swapcase()\n",
    "\n",
    "- it well convert lower to upper\n",
    "- it well convert  upper to lower\n",
    "    \n",
    "    synatax:\n",
    "           \n",
    "            string_name.swapcase()"
   ]
  },
  {
   "cell_type": "code",
   "execution_count": 83,
   "id": "237bfdf8",
   "metadata": {},
   "outputs": [
    {
     "data": {
      "text/plain": [
       "'zeal COLLEGE is BEST college'"
      ]
     },
     "execution_count": 83,
     "metadata": {},
     "output_type": "execute_result"
    }
   ],
   "source": [
    "str2"
   ]
  },
  {
   "cell_type": "code",
   "execution_count": 84,
   "id": "2267273b",
   "metadata": {},
   "outputs": [
    {
     "data": {
      "text/plain": [
       "'ZEAL college IS best COLLEGE'"
      ]
     },
     "execution_count": 84,
     "metadata": {},
     "output_type": "execute_result"
    }
   ],
   "source": [
    "str2.swapcase()"
   ]
  },
  {
   "attachments": {},
   "cell_type": "markdown",
   "id": "b1fb7f5b",
   "metadata": {},
   "source": [
    "## lstrip()\n",
    "\n",
    "- lstrip--->left strip---.\n",
    "- it well removing the withespace from left side of the string\n",
    "   syntax:\n",
    "       \n",
    "       string_name.lstrip()"
   ]
  },
  {
   "cell_type": "code",
   "execution_count": 85,
   "id": "04b18ca1",
   "metadata": {},
   "outputs": [],
   "source": [
    "name=\"      zeal\""
   ]
  },
  {
   "cell_type": "code",
   "execution_count": 86,
   "id": "5a224987",
   "metadata": {},
   "outputs": [
    {
     "data": {
      "text/plain": [
       "'zeal'"
      ]
     },
     "execution_count": 86,
     "metadata": {},
     "output_type": "execute_result"
    }
   ],
   "source": [
    "name.lstrip()"
   ]
  },
  {
   "cell_type": "code",
   "execution_count": 87,
   "id": "8bbb418f",
   "metadata": {},
   "outputs": [
    {
     "data": {
      "text/plain": [
       "True"
      ]
     },
     "execution_count": 87,
     "metadata": {},
     "output_type": "execute_result"
    }
   ],
   "source": [
    "name.lstrip()==\"zeal\""
   ]
  },
  {
   "cell_type": "code",
   "execution_count": null,
   "id": "8856a7da",
   "metadata": {},
   "outputs": [],
   "source": []
  },
  {
   "cell_type": "code",
   "execution_count": null,
   "id": "b5c8f77a",
   "metadata": {},
   "outputs": [],
   "source": []
  },
  {
   "attachments": {},
   "cell_type": "markdown",
   "id": "9494cd51",
   "metadata": {},
   "source": [
    "## rstrip()\n",
    "\n",
    "- lstrip--->right strip---.\n",
    "- it well removing the withespace from right side of the string\n",
    "\n",
    "- "
   ]
  },
  {
   "cell_type": "code",
   "execution_count": 88,
   "id": "33f7b2b3",
   "metadata": {},
   "outputs": [],
   "source": [
    "name1=\"vikee    \""
   ]
  },
  {
   "cell_type": "code",
   "execution_count": 89,
   "id": "9ad04191",
   "metadata": {},
   "outputs": [
    {
     "data": {
      "text/plain": [
       "'vikee'"
      ]
     },
     "execution_count": 89,
     "metadata": {},
     "output_type": "execute_result"
    }
   ],
   "source": [
    "name1.rstrip()"
   ]
  },
  {
   "cell_type": "code",
   "execution_count": 90,
   "id": "a6e9807f",
   "metadata": {},
   "outputs": [],
   "source": [
    "name2=\"    chinmy    \""
   ]
  },
  {
   "cell_type": "code",
   "execution_count": 91,
   "id": "623fc1a1",
   "metadata": {},
   "outputs": [
    {
     "data": {
      "text/plain": [
       "'    chinmy'"
      ]
     },
     "execution_count": 91,
     "metadata": {},
     "output_type": "execute_result"
    }
   ],
   "source": [
    "name2.rstrip()"
   ]
  },
  {
   "cell_type": "code",
   "execution_count": 92,
   "id": "e6f5025c",
   "metadata": {},
   "outputs": [],
   "source": [
    "pan_name=\"VIKEE SALUNKHE\"\n",
    "addhar_name=\"Vikee Salunkhe \""
   ]
  },
  {
   "cell_type": "code",
   "execution_count": 93,
   "id": "430a2aa2",
   "metadata": {},
   "outputs": [
    {
     "data": {
      "text/plain": [
       "False"
      ]
     },
     "execution_count": 93,
     "metadata": {},
     "output_type": "execute_result"
    }
   ],
   "source": [
    "pan_name==addhar_name"
   ]
  },
  {
   "cell_type": "code",
   "execution_count": 94,
   "id": "18d5fb8c",
   "metadata": {},
   "outputs": [
    {
     "data": {
      "text/plain": [
       "False"
      ]
     },
     "execution_count": 94,
     "metadata": {},
     "output_type": "execute_result"
    }
   ],
   "source": [
    "pan_name.title()==addhar_name"
   ]
  },
  {
   "cell_type": "code",
   "execution_count": 95,
   "id": "63db953c",
   "metadata": {},
   "outputs": [
    {
     "data": {
      "text/plain": [
       "True"
      ]
     },
     "execution_count": 95,
     "metadata": {},
     "output_type": "execute_result"
    }
   ],
   "source": [
    "pan_name.title()==addhar_name.strip()"
   ]
  },
  {
   "cell_type": "code",
   "execution_count": 96,
   "id": "14fd997a",
   "metadata": {},
   "outputs": [
    {
     "data": {
      "text/plain": [
       "True"
      ]
     },
     "execution_count": 96,
     "metadata": {},
     "output_type": "execute_result"
    }
   ],
   "source": [
    "pan_name.title()==addhar_name.rstrip()"
   ]
  },
  {
   "cell_type": "code",
   "execution_count": 97,
   "id": "4146497e",
   "metadata": {},
   "outputs": [],
   "source": [
    "division=\"   first   \""
   ]
  },
  {
   "cell_type": "code",
   "execution_count": 98,
   "id": "8f4d6993",
   "metadata": {},
   "outputs": [
    {
     "data": {
      "text/plain": [
       "'first'"
      ]
     },
     "execution_count": 98,
     "metadata": {},
     "output_type": "execute_result"
    }
   ],
   "source": [
    "division.strip()"
   ]
  },
  {
   "cell_type": "code",
   "execution_count": 99,
   "id": "45977e22",
   "metadata": {},
   "outputs": [],
   "source": [
    "name=\"ZEAL COLLEGE OF ENGINEERING\"\n",
    "college_name='      zeal college og engineering'"
   ]
  },
  {
   "cell_type": "code",
   "execution_count": 100,
   "id": "1b13b133",
   "metadata": {},
   "outputs": [
    {
     "data": {
      "text/plain": [
       "False"
      ]
     },
     "execution_count": 100,
     "metadata": {},
     "output_type": "execute_result"
    }
   ],
   "source": [
    "name==college_name"
   ]
  },
  {
   "cell_type": "code",
   "execution_count": null,
   "id": "ae4716ad",
   "metadata": {},
   "outputs": [],
   "source": []
  },
  {
   "attachments": {},
   "cell_type": "markdown",
   "id": "41dce178",
   "metadata": {},
   "source": [
    "## replace()\n",
    "\n",
    "- using this function we can replace any characters and word in string\n",
    "- it will not modify the original string\n",
    "\n",
    "syntax:\n",
    "    \n",
    "    string_name.replace('old char/word','new char/word'count)\n",
    "    "
   ]
  },
  {
   "cell_type": "code",
   "execution_count": 101,
   "id": "fd3ffd38",
   "metadata": {},
   "outputs": [],
   "source": [
    "str1=\"Data Analyst,Python Developer,Data Scientist,Data Engineer\""
   ]
  },
  {
   "cell_type": "code",
   "execution_count": 102,
   "id": "b6d10908",
   "metadata": {},
   "outputs": [
    {
     "data": {
      "text/plain": [
       "'Data Analyst,Java Developer,Data Scientist,Data Engineer'"
      ]
     },
     "execution_count": 102,
     "metadata": {},
     "output_type": "execute_result"
    }
   ],
   "source": [
    "str1.replace('Python','Java')"
   ]
  },
  {
   "cell_type": "code",
   "execution_count": 103,
   "id": "e69a845e",
   "metadata": {},
   "outputs": [],
   "source": [
    "str1=\"Data Analyst,Python Developer,Data Scientist,Data Engineer\""
   ]
  },
  {
   "cell_type": "code",
   "execution_count": 104,
   "id": "4fa6b22a",
   "metadata": {},
   "outputs": [
    {
     "data": {
      "text/plain": [
       "'DATA Analyst,Python Developer,DATA Scientist,DATA Engineer'"
      ]
     },
     "execution_count": 104,
     "metadata": {},
     "output_type": "execute_result"
    }
   ],
   "source": [
    "str1.replace('Data',\"DATA\")"
   ]
  },
  {
   "cell_type": "code",
   "execution_count": 105,
   "id": "1c1a94c5",
   "metadata": {},
   "outputs": [
    {
     "data": {
      "text/plain": [
       "'DATA Analyst,Python Developer,Data Scientist,Data Engineer'"
      ]
     },
     "execution_count": 105,
     "metadata": {},
     "output_type": "execute_result"
    }
   ],
   "source": [
    "str1.replace('Data',\"DATA\",1)"
   ]
  },
  {
   "cell_type": "code",
   "execution_count": 106,
   "id": "3937b106",
   "metadata": {},
   "outputs": [
    {
     "data": {
      "text/plain": [
       "'DATA Analyst,Python Developer,DATA Scientist,Data Engineer'"
      ]
     },
     "execution_count": 106,
     "metadata": {},
     "output_type": "execute_result"
    }
   ],
   "source": [
    "str1.replace('Data',\"DATA\",2)"
   ]
  },
  {
   "cell_type": "code",
   "execution_count": 107,
   "id": "e552b066",
   "metadata": {},
   "outputs": [
    {
     "data": {
      "text/plain": [
       "'Data Analyst,Python Developer,Data Scientist,DATA ENGINEER'"
      ]
     },
     "execution_count": 107,
     "metadata": {},
     "output_type": "execute_result"
    }
   ],
   "source": [
    "str1.replace(\"Data Engineer\",'DATA ENGINEER')"
   ]
  },
  {
   "cell_type": "code",
   "execution_count": 108,
   "id": "17612cdd",
   "metadata": {},
   "outputs": [],
   "source": [
    "str2=\"vaibhav,tushar,vikee\""
   ]
  },
  {
   "cell_type": "code",
   "execution_count": 109,
   "id": "d71505fe",
   "metadata": {},
   "outputs": [
    {
     "data": {
      "text/plain": [
       "'paibhap,tushar,pikee'"
      ]
     },
     "execution_count": 109,
     "metadata": {},
     "output_type": "execute_result"
    }
   ],
   "source": [
    "str2.replace(\"v\",'p')"
   ]
  },
  {
   "cell_type": "code",
   "execution_count": 110,
   "id": "c69a2249",
   "metadata": {},
   "outputs": [
    {
     "data": {
      "text/plain": [
       "'yash,tushar,vikee'"
      ]
     },
     "execution_count": 110,
     "metadata": {},
     "output_type": "execute_result"
    }
   ],
   "source": [
    "str2.replace('vaibhav','yash')"
   ]
  },
  {
   "attachments": {},
   "cell_type": "markdown",
   "id": "f1e1296e",
   "metadata": {},
   "source": [
    "## count()\n",
    "\n",
    "- it return the numberof occurence of char and word in given string\n",
    "\n",
    "synatax:\n",
    "    \n",
    "    string_name.count('char/word',start,end)"
   ]
  },
  {
   "cell_type": "code",
   "execution_count": 111,
   "id": "8cf43e60",
   "metadata": {},
   "outputs": [
    {
     "data": {
      "text/plain": [
       "'Data Analyst,Python Developer,Data Scientist,Data Engineer'"
      ]
     },
     "execution_count": 111,
     "metadata": {},
     "output_type": "execute_result"
    }
   ],
   "source": [
    "str1"
   ]
  },
  {
   "cell_type": "code",
   "execution_count": 112,
   "id": "d0a04aca",
   "metadata": {},
   "outputs": [
    {
     "data": {
      "text/plain": [
       "1"
      ]
     },
     "execution_count": 112,
     "metadata": {},
     "output_type": "execute_result"
    }
   ],
   "source": [
    "str1.count('Python')"
   ]
  },
  {
   "cell_type": "code",
   "execution_count": 113,
   "id": "27c9b867",
   "metadata": {},
   "outputs": [
    {
     "data": {
      "text/plain": [
       "4"
      ]
     },
     "execution_count": 113,
     "metadata": {},
     "output_type": "execute_result"
    }
   ],
   "source": [
    "str1.count('D')"
   ]
  },
  {
   "cell_type": "code",
   "execution_count": 114,
   "id": "222d58f5",
   "metadata": {},
   "outputs": [
    {
     "data": {
      "text/plain": [
       "4"
      ]
     },
     "execution_count": 114,
     "metadata": {},
     "output_type": "execute_result"
    }
   ],
   "source": [
    "str1.count(' ')"
   ]
  },
  {
   "cell_type": "code",
   "execution_count": 115,
   "id": "56c4fa15",
   "metadata": {},
   "outputs": [
    {
     "data": {
      "text/plain": [
       "'Data Analyst,Python Developer,Data Scientist,Data Engineer'"
      ]
     },
     "execution_count": 115,
     "metadata": {},
     "output_type": "execute_result"
    }
   ],
   "source": [
    "str1"
   ]
  },
  {
   "cell_type": "code",
   "execution_count": 116,
   "id": "f5edeb72",
   "metadata": {},
   "outputs": [
    {
     "data": {
      "text/plain": [
       "58"
      ]
     },
     "execution_count": 116,
     "metadata": {},
     "output_type": "execute_result"
    }
   ],
   "source": [
    "len(str1)"
   ]
  },
  {
   "cell_type": "code",
   "execution_count": 117,
   "id": "255b9827",
   "metadata": {},
   "outputs": [
    {
     "data": {
      "text/plain": [
       "2"
      ]
     },
     "execution_count": 117,
     "metadata": {},
     "output_type": "execute_result"
    }
   ],
   "source": [
    "str1.count('Data',10,58)"
   ]
  },
  {
   "cell_type": "code",
   "execution_count": 118,
   "id": "58aae4f1",
   "metadata": {},
   "outputs": [
    {
     "data": {
      "text/plain": [
       "3"
      ]
     },
     "execution_count": 118,
     "metadata": {},
     "output_type": "execute_result"
    }
   ],
   "source": [
    "str1.count('a',0,10)"
   ]
  },
  {
   "cell_type": "code",
   "execution_count": 119,
   "id": "667373b4",
   "metadata": {},
   "outputs": [
    {
     "data": {
      "text/plain": [
       "7"
      ]
     },
     "execution_count": 119,
     "metadata": {},
     "output_type": "execute_result"
    }
   ],
   "source": [
    "str1.count('',4,10)"
   ]
  },
  {
   "attachments": {},
   "cell_type": "markdown",
   "id": "714c6957",
   "metadata": {},
   "source": [
    "## index()\n",
    "\n",
    "- it will return the index of the character or word inside the string.\n",
    "- if character not found \n",
    "\n",
    "syntax:\n",
    "    \n",
    "    string_name.index('char/word',start,end)"
   ]
  },
  {
   "cell_type": "code",
   "execution_count": 120,
   "id": "bf21fb8f",
   "metadata": {},
   "outputs": [],
   "source": [
    "str3='Python Developer,Data Analyst,Data Scientist,Data Engineer'"
   ]
  },
  {
   "cell_type": "code",
   "execution_count": 121,
   "id": "592c211a",
   "metadata": {},
   "outputs": [
    {
     "data": {
      "text/plain": [
       "17"
      ]
     },
     "execution_count": 121,
     "metadata": {},
     "output_type": "execute_result"
    }
   ],
   "source": [
    "str3.index('Data')"
   ]
  },
  {
   "cell_type": "code",
   "execution_count": 122,
   "id": "89426b4c",
   "metadata": {},
   "outputs": [
    {
     "data": {
      "text/plain": [
       "30"
      ]
     },
     "execution_count": 122,
     "metadata": {},
     "output_type": "execute_result"
    }
   ],
   "source": [
    "str3.index('Data',19)"
   ]
  },
  {
   "cell_type": "code",
   "execution_count": 123,
   "id": "bb5306c4",
   "metadata": {},
   "outputs": [
    {
     "data": {
      "text/plain": [
       "7"
      ]
     },
     "execution_count": 123,
     "metadata": {},
     "output_type": "execute_result"
    }
   ],
   "source": [
    "str3.index('D')"
   ]
  },
  {
   "cell_type": "code",
   "execution_count": 124,
   "id": "4a6279a1",
   "metadata": {},
   "outputs": [
    {
     "data": {
      "text/plain": [
       "45"
      ]
     },
     "execution_count": 124,
     "metadata": {},
     "output_type": "execute_result"
    }
   ],
   "source": [
    "str3.index('D',40)"
   ]
  },
  {
   "cell_type": "code",
   "execution_count": 125,
   "id": "4c0e2005",
   "metadata": {},
   "outputs": [
    {
     "data": {
      "text/plain": [
       "17"
      ]
     },
     "execution_count": 125,
     "metadata": {},
     "output_type": "execute_result"
    }
   ],
   "source": [
    "str3.index('D',8,18)"
   ]
  },
  {
   "cell_type": "code",
   "execution_count": 126,
   "id": "c190cf4c",
   "metadata": {},
   "outputs": [
    {
     "ename": "ValueError",
     "evalue": "substring not found",
     "output_type": "error",
     "traceback": [
      "\u001b[1;31m---------------------------------------------------------------------------\u001b[0m",
      "\u001b[1;31mValueError\u001b[0m                                Traceback (most recent call last)",
      "\u001b[1;32mC:\\Users\\VIKEED~1\\AppData\\Local\\Temp/ipykernel_11708/1809055065.py\u001b[0m in \u001b[0;36m<module>\u001b[1;34m\u001b[0m\n\u001b[1;32m----> 1\u001b[1;33m \u001b[0mstr3\u001b[0m\u001b[1;33m.\u001b[0m\u001b[0mindex\u001b[0m\u001b[1;33m(\u001b[0m\u001b[1;34m'z'\u001b[0m\u001b[1;33m)\u001b[0m\u001b[1;33m\u001b[0m\u001b[1;33m\u001b[0m\u001b[0m\n\u001b[0m",
      "\u001b[1;31mValueError\u001b[0m: substring not found"
     ]
    }
   ],
   "source": [
    "str3.index('z')"
   ]
  },
  {
   "attachments": {},
   "cell_type": "markdown",
   "id": "91d0aba8",
   "metadata": {},
   "source": [
    "## find()\n",
    "\n",
    "- \n",
    "- it will return the index of the character or word inside the string.\n",
    "- if character not found the it will return  -1\n",
    "\n",
    "   syntax:\n",
    "   \n",
    "       string_name.find('char/word',start,end)"
   ]
  },
  {
   "cell_type": "code",
   "execution_count": 5,
   "id": "90fc9108",
   "metadata": {},
   "outputs": [
    {
     "data": {
      "text/plain": [
       "'zeal college is\\tbest college in pune univrsity'"
      ]
     },
     "execution_count": 5,
     "metadata": {},
     "output_type": "execute_result"
    }
   ],
   "source": [
    "str3"
   ]
  },
  {
   "cell_type": "code",
   "execution_count": 6,
   "id": "1ca9b066",
   "metadata": {},
   "outputs": [
    {
     "data": {
      "text/plain": [
       "-1"
      ]
     },
     "execution_count": 6,
     "metadata": {},
     "output_type": "execute_result"
    }
   ],
   "source": [
    "str3.find('Data')"
   ]
  },
  {
   "cell_type": "code",
   "execution_count": 7,
   "id": "271519a2",
   "metadata": {},
   "outputs": [
    {
     "data": {
      "text/plain": [
       "0"
      ]
     },
     "execution_count": 7,
     "metadata": {},
     "output_type": "execute_result"
    }
   ],
   "source": [
    "str3.find('z')"
   ]
  },
  {
   "attachments": {},
   "cell_type": "markdown",
   "id": "13fb1e5f",
   "metadata": {},
   "source": [
    "## split()\n",
    "\n",
    "-  it break up the string at specified separator , return list of string .\n",
    "-  by default separator is whitespace('')\n",
    "\n",
    "syntax:\n",
    "\n",
    "      string_name.split('seperator')"
   ]
  },
  {
   "cell_type": "code",
   "execution_count": 127,
   "id": "ca35f63c",
   "metadata": {},
   "outputs": [
    {
     "data": {
      "text/plain": [
       "'Data Analyst,Python Developer,Data Scientist,Data Engineer'"
      ]
     },
     "execution_count": 127,
     "metadata": {},
     "output_type": "execute_result"
    }
   ],
   "source": [
    "str1"
   ]
  },
  {
   "cell_type": "code",
   "execution_count": 128,
   "id": "735a3c36",
   "metadata": {},
   "outputs": [
    {
     "data": {
      "text/plain": [
       "['Data', 'Analyst,Python', 'Developer,Data', 'Scientist,Data', 'Engineer']"
      ]
     },
     "execution_count": 128,
     "metadata": {},
     "output_type": "execute_result"
    }
   ],
   "source": [
    "str1.split()"
   ]
  },
  {
   "cell_type": "code",
   "execution_count": 129,
   "id": "f7ed7580",
   "metadata": {},
   "outputs": [
    {
     "data": {
      "text/plain": [
       "['Data Analyst', 'Python Developer', 'Data Scientist', 'Data Engineer']"
      ]
     },
     "execution_count": 129,
     "metadata": {},
     "output_type": "execute_result"
    }
   ],
   "source": [
    "str1.split(',')"
   ]
  },
  {
   "cell_type": "code",
   "execution_count": 130,
   "id": "f8ec0565",
   "metadata": {},
   "outputs": [
    {
     "data": {
      "text/plain": [
       "['', 'ata Analyst,Python ', 'eveloper,', 'ata Scientist,', 'ata Engineer']"
      ]
     },
     "execution_count": 130,
     "metadata": {},
     "output_type": "execute_result"
    }
   ],
   "source": [
    "str1.split('D')"
   ]
  },
  {
   "cell_type": "code",
   "execution_count": 131,
   "id": "ad9f0971",
   "metadata": {},
   "outputs": [
    {
     "data": {
      "text/plain": [
       "['D',\n",
       " 't',\n",
       " ' An',\n",
       " 'lyst,Python Developer,D',\n",
       " 't',\n",
       " ' Scientist,D',\n",
       " 't',\n",
       " ' Engineer']"
      ]
     },
     "execution_count": 131,
     "metadata": {},
     "output_type": "execute_result"
    }
   ],
   "source": [
    "str1.split('a')"
   ]
  },
  {
   "attachments": {},
   "cell_type": "markdown",
   "id": "e073b9ad",
   "metadata": {},
   "source": [
    "## join()\n",
    "\n",
    "- this method  return string by joinning all elements in iterable(list)\n",
    "\n",
    "       syntax:  \n",
    "               'seperator'.join(iterable)"
   ]
  },
  {
   "cell_type": "code",
   "execution_count": 132,
   "id": "4adf05b4",
   "metadata": {},
   "outputs": [],
   "source": [
    "lst=['Python','Developer', 'Data','Analyst','Data','Scientist']"
   ]
  },
  {
   "cell_type": "code",
   "execution_count": 133,
   "id": "f9e8c64a",
   "metadata": {},
   "outputs": [
    {
     "data": {
      "text/plain": [
       "'Python Developer Data Analyst Data Scientist'"
      ]
     },
     "execution_count": 133,
     "metadata": {},
     "output_type": "execute_result"
    }
   ],
   "source": [
    "' '.join(lst)"
   ]
  },
  {
   "cell_type": "code",
   "execution_count": 134,
   "id": "69694f22",
   "metadata": {},
   "outputs": [
    {
     "data": {
      "text/plain": [
       "'PythonDeveloperDataAnalystDataScientist'"
      ]
     },
     "execution_count": 134,
     "metadata": {},
     "output_type": "execute_result"
    }
   ],
   "source": [
    "''.join(lst)"
   ]
  },
  {
   "cell_type": "code",
   "execution_count": 135,
   "id": "e1e14203",
   "metadata": {},
   "outputs": [
    {
     "data": {
      "text/plain": [
       "'Python/Developer/Data/Analyst/Data/Scientist'"
      ]
     },
     "execution_count": 135,
     "metadata": {},
     "output_type": "execute_result"
    }
   ],
   "source": [
    "'/'.join(lst)"
   ]
  },
  {
   "cell_type": "code",
   "execution_count": 136,
   "id": "375abf82",
   "metadata": {},
   "outputs": [
    {
     "data": {
      "text/plain": [
       "'Python_Developer_Data_Analyst_Data_Scientist'"
      ]
     },
     "execution_count": 136,
     "metadata": {},
     "output_type": "execute_result"
    }
   ],
   "source": [
    "'_'.join(lst)"
   ]
  },
  {
   "cell_type": "code",
   "execution_count": 137,
   "id": "5741f3a9",
   "metadata": {},
   "outputs": [
    {
     "data": {
      "text/plain": [
       "'Pythonvikee Developervikee Datavikee Analystvikee Datavikee Scientist'"
      ]
     },
     "execution_count": 137,
     "metadata": {},
     "output_type": "execute_result"
    }
   ],
   "source": [
    "'vikee '.join(lst)"
   ]
  },
  {
   "cell_type": "code",
   "execution_count": 138,
   "id": "725ddde7",
   "metadata": {},
   "outputs": [],
   "source": [
    " tup=('t','u','s','h','a','r')"
   ]
  },
  {
   "cell_type": "code",
   "execution_count": 139,
   "id": "0f179e81",
   "metadata": {},
   "outputs": [
    {
     "data": {
      "text/plain": [
       "'tushar'"
      ]
     },
     "execution_count": 139,
     "metadata": {},
     "output_type": "execute_result"
    }
   ],
   "source": [
    "''.join(tup)"
   ]
  },
  {
   "attachments": {},
   "cell_type": "markdown",
   "id": "8b28e31b",
   "metadata": {},
   "source": [
    "## startswith()\n",
    "\n",
    "- it will return True if string state with specified suffix.\n",
    "\n",
    "  syntax:\n",
    "        \n",
    "        string_name.startwith('char/word')"
   ]
  },
  {
   "cell_type": "code",
   "execution_count": 140,
   "id": "49d6caa7",
   "metadata": {},
   "outputs": [],
   "source": [
    "str1='Python Developer'"
   ]
  },
  {
   "cell_type": "code",
   "execution_count": 141,
   "id": "263c21c1",
   "metadata": {},
   "outputs": [
    {
     "data": {
      "text/plain": [
       "False"
      ]
     },
     "execution_count": 141,
     "metadata": {},
     "output_type": "execute_result"
    }
   ],
   "source": [
    "str1.startswith('python')"
   ]
  },
  {
   "cell_type": "code",
   "execution_count": 142,
   "id": "12910c39",
   "metadata": {},
   "outputs": [
    {
     "data": {
      "text/plain": [
       "True"
      ]
     },
     "execution_count": 142,
     "metadata": {},
     "output_type": "execute_result"
    }
   ],
   "source": [
    "str1.startswith('Python')"
   ]
  },
  {
   "cell_type": "code",
   "execution_count": 143,
   "id": "66e370a4",
   "metadata": {},
   "outputs": [
    {
     "data": {
      "text/plain": [
       "False"
      ]
     },
     "execution_count": 143,
     "metadata": {},
     "output_type": "execute_result"
    }
   ],
   "source": [
    "str1.startswith('Python',6)"
   ]
  },
  {
   "cell_type": "code",
   "execution_count": 144,
   "id": "3891e99e",
   "metadata": {},
   "outputs": [
    {
     "data": {
      "text/plain": [
       "True"
      ]
     },
     "execution_count": 144,
     "metadata": {},
     "output_type": "execute_result"
    }
   ],
   "source": [
    "str1.startswith('')"
   ]
  },
  {
   "attachments": {},
   "cell_type": "markdown",
   "id": "b8833dac",
   "metadata": {},
   "source": [
    "## endswith()\n",
    "\n",
    "- - it will return True if string state with specified suffix.\n",
    "\n",
    "  syntax:\n",
    "        \n",
    "        string_name.endswith('char/word')\n",
    "\n"
   ]
  },
  {
   "cell_type": "code",
   "execution_count": 145,
   "id": "5d8ffbc1",
   "metadata": {},
   "outputs": [
    {
     "data": {
      "text/plain": [
       "'Python Developer'"
      ]
     },
     "execution_count": 145,
     "metadata": {},
     "output_type": "execute_result"
    }
   ],
   "source": [
    "str1"
   ]
  },
  {
   "cell_type": "code",
   "execution_count": 146,
   "id": "d8e0e002",
   "metadata": {},
   "outputs": [
    {
     "data": {
      "text/plain": [
       "True"
      ]
     },
     "execution_count": 146,
     "metadata": {},
     "output_type": "execute_result"
    }
   ],
   "source": [
    "str1.endswith('Developer')"
   ]
  },
  {
   "cell_type": "code",
   "execution_count": 147,
   "id": "13a0c5e3",
   "metadata": {},
   "outputs": [
    {
     "data": {
      "text/plain": [
       "True"
      ]
     },
     "execution_count": 147,
     "metadata": {},
     "output_type": "execute_result"
    }
   ],
   "source": [
    "str1.endswith('r')"
   ]
  },
  {
   "attachments": {},
   "cell_type": "markdown",
   "id": "7645062e",
   "metadata": {},
   "source": [
    "## isalpha()\n",
    "\n",
    "- it will return True if all character in string are alphabets\n",
    "\n",
    "syntax:\n",
    "    \n",
    "      string_name.isalpha()"
   ]
  },
  {
   "cell_type": "code",
   "execution_count": 148,
   "id": "0f4725b6",
   "metadata": {},
   "outputs": [],
   "source": [
    "str1=\"Python Developer\""
   ]
  },
  {
   "cell_type": "code",
   "execution_count": 149,
   "id": "8a71f157",
   "metadata": {},
   "outputs": [
    {
     "data": {
      "text/plain": [
       "False"
      ]
     },
     "execution_count": 149,
     "metadata": {},
     "output_type": "execute_result"
    }
   ],
   "source": [
    "str1.isalpha()"
   ]
  },
  {
   "cell_type": "code",
   "execution_count": 150,
   "id": "82ae8d99",
   "metadata": {},
   "outputs": [],
   "source": [
    "str2=\"PythonDeveloper\""
   ]
  },
  {
   "cell_type": "code",
   "execution_count": 151,
   "id": "9511ce9e",
   "metadata": {},
   "outputs": [
    {
     "data": {
      "text/plain": [
       "True"
      ]
     },
     "execution_count": 151,
     "metadata": {},
     "output_type": "execute_result"
    }
   ],
   "source": [
    "str2.isalpha()"
   ]
  },
  {
   "cell_type": "code",
   "execution_count": 152,
   "id": "374fc341",
   "metadata": {},
   "outputs": [],
   "source": [
    "str3=\"PythoDeveloper8\""
   ]
  },
  {
   "cell_type": "code",
   "execution_count": 153,
   "id": "fee888e8",
   "metadata": {},
   "outputs": [
    {
     "data": {
      "text/plain": [
       "False"
      ]
     },
     "execution_count": 153,
     "metadata": {},
     "output_type": "execute_result"
    }
   ],
   "source": [
    "str3.isalpha()"
   ]
  },
  {
   "attachments": {},
   "cell_type": "markdown",
   "id": "6a9cbdc7",
   "metadata": {},
   "source": [
    "## isalnum()\n",
    "\n",
    "- it return true if all character in string are alphanumric\n",
    "\n",
    "\n",
    "   syntax:\n",
    "        \n",
    "         string_name.isalnum()\n",
    "            "
   ]
  },
  {
   "cell_type": "code",
   "execution_count": 154,
   "id": "e8da9e82",
   "metadata": {},
   "outputs": [
    {
     "data": {
      "text/plain": [
       "'PythoDeveloper8'"
      ]
     },
     "execution_count": 154,
     "metadata": {},
     "output_type": "execute_result"
    }
   ],
   "source": [
    "str3"
   ]
  },
  {
   "cell_type": "code",
   "execution_count": 155,
   "id": "eb760f08",
   "metadata": {},
   "outputs": [
    {
     "data": {
      "text/plain": [
       "True"
      ]
     },
     "execution_count": 155,
     "metadata": {},
     "output_type": "execute_result"
    }
   ],
   "source": [
    "str3.isalnum()"
   ]
  },
  {
   "cell_type": "code",
   "execution_count": 156,
   "id": "2b1d57e2",
   "metadata": {},
   "outputs": [],
   "source": [
    "str4=\"PythonDeveloper\""
   ]
  },
  {
   "cell_type": "code",
   "execution_count": 157,
   "id": "a08b4e45",
   "metadata": {},
   "outputs": [
    {
     "data": {
      "text/plain": [
       "True"
      ]
     },
     "execution_count": 157,
     "metadata": {},
     "output_type": "execute_result"
    }
   ],
   "source": [
    "str4.isalnum()"
   ]
  },
  {
   "cell_type": "code",
   "execution_count": 158,
   "id": "3f4b4a81",
   "metadata": {},
   "outputs": [],
   "source": [
    "str5=\"67674\""
   ]
  },
  {
   "cell_type": "code",
   "execution_count": 159,
   "id": "f6530478",
   "metadata": {},
   "outputs": [
    {
     "data": {
      "text/plain": [
       "True"
      ]
     },
     "execution_count": 159,
     "metadata": {},
     "output_type": "execute_result"
    }
   ],
   "source": [
    "str5.isalnum()"
   ]
  },
  {
   "cell_type": "code",
   "execution_count": 160,
   "id": "36aa5f42",
   "metadata": {},
   "outputs": [],
   "source": [
    "str6=\"Python Developer7\""
   ]
  },
  {
   "cell_type": "code",
   "execution_count": 161,
   "id": "cfc8b580",
   "metadata": {},
   "outputs": [
    {
     "data": {
      "text/plain": [
       "False"
      ]
     },
     "execution_count": 161,
     "metadata": {},
     "output_type": "execute_result"
    }
   ],
   "source": [
    "str6.isalnum()"
   ]
  },
  {
   "attachments": {},
   "cell_type": "markdown",
   "id": "8869dcc3",
   "metadata": {},
   "source": [
    "## isdecimal(), isnumric(), isdigit() "
   ]
  },
  {
   "cell_type": "code",
   "execution_count": 162,
   "id": "f39be5fa",
   "metadata": {},
   "outputs": [],
   "source": [
    "str1='1234'"
   ]
  },
  {
   "cell_type": "code",
   "execution_count": 163,
   "id": "3a4a4f3f",
   "metadata": {},
   "outputs": [
    {
     "name": "stdout",
     "output_type": "stream",
     "text": [
      "True\n",
      "True\n",
      "True\n"
     ]
    }
   ],
   "source": [
    "print(str1.isdecimal())\n",
    "print(str1.isnumeric())\n",
    "print(str1.isdigit())"
   ]
  },
  {
   "cell_type": "code",
   "execution_count": 164,
   "id": "1a638688",
   "metadata": {},
   "outputs": [],
   "source": [
    "str2='34.342'"
   ]
  },
  {
   "cell_type": "code",
   "execution_count": 165,
   "id": "4280db2f",
   "metadata": {},
   "outputs": [
    {
     "name": "stdout",
     "output_type": "stream",
     "text": [
      "False\n",
      "False\n",
      "False\n"
     ]
    }
   ],
   "source": [
    "print(str2.isdecimal())\n",
    "print(str2.isnumeric())\n",
    "print(str2.isdigit())"
   ]
  },
  {
   "cell_type": "code",
   "execution_count": 166,
   "id": "6a16d57c",
   "metadata": {},
   "outputs": [],
   "source": [
    "str3='1234a'"
   ]
  },
  {
   "cell_type": "code",
   "execution_count": 167,
   "id": "5331920b",
   "metadata": {},
   "outputs": [
    {
     "name": "stdout",
     "output_type": "stream",
     "text": [
      "False\n",
      "False\n",
      "False\n"
     ]
    }
   ],
   "source": [
    "print(str3.isdecimal())\n",
    "print(str3.isnumeric())\n",
    "print(str3.isdigit())"
   ]
  },
  {
   "cell_type": "code",
   "execution_count": null,
   "id": "745a4e0e",
   "metadata": {},
   "outputs": [],
   "source": []
  },
  {
   "cell_type": "code",
   "execution_count": null,
   "id": "1325ee4b",
   "metadata": {},
   "outputs": [],
   "source": []
  },
  {
   "cell_type": "code",
   "execution_count": null,
   "id": "7fcbea8e",
   "metadata": {},
   "outputs": [],
   "source": []
  },
  {
   "cell_type": "code",
   "execution_count": null,
   "id": "6061b360",
   "metadata": {},
   "outputs": [],
   "source": []
  }
 ],
 "metadata": {
  "kernelspec": {
   "display_name": "Python 3 (ipykernel)",
   "language": "python",
   "name": "python3"
  },
  "language_info": {
   "codemirror_mode": {
    "name": "ipython",
    "version": 3
   },
   "file_extension": ".py",
   "mimetype": "text/x-python",
   "name": "python",
   "nbconvert_exporter": "python",
   "pygments_lexer": "ipython3",
   "version": "3.9.7"
  }
 },
 "nbformat": 4,
 "nbformat_minor": 5
}
